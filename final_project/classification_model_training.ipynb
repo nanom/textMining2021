{
  "nbformat": 4,
  "nbformat_minor": 0,
  "metadata": {
    "accelerator": "GPU",
    "colab": {
      "name": "classification_model_training.ipynb",
      "provenance": [],
      "collapsed_sections": [
        "iQy5JcGSLsJW",
        "daT5WpDIB6g6",
        "a2BsqeweYQ82",
        "geIWv5X9lSDe",
        "ELJ8T9rlRcLY",
        "pTubHaP3RcLt",
        "s2WTD1GuRcRG",
        "jrnlPqmyRcRQ",
        "7JvPkbFoGItA",
        "ImMK12wOGItM",
        "NBWHCHwDGItS",
        "7K2Wtt7vGItW",
        "TflFCg3UC6W-",
        "XLvodV8WC6XC"
      ],
      "include_colab_link": true
    },
    "kernelspec": {
      "display_name": "Python 3",
      "name": "python3"
    },
    "language_info": {
      "name": "python"
    },
    "widgets": {
      "application/vnd.jupyter.widget-state+json": {
        "bbda380211fc43a08886e1db2e252fae": {
          "model_module": "@jupyter-widgets/controls",
          "model_name": "HBoxModel",
          "model_module_version": "1.5.0",
          "state": {
            "_view_name": "HBoxView",
            "_dom_classes": [],
            "_model_name": "HBoxModel",
            "_view_module": "@jupyter-widgets/controls",
            "_model_module_version": "1.5.0",
            "_view_count": null,
            "_view_module_version": "1.5.0",
            "box_style": "",
            "layout": "IPY_MODEL_cefa53cb45944462af1f89beb56bf786",
            "_model_module": "@jupyter-widgets/controls",
            "children": [
              "IPY_MODEL_9c7a8210b56741f1bc41d91f96b505af",
              "IPY_MODEL_89378fbd406344928d210526e395fe87",
              "IPY_MODEL_06876209cb304106b5064bc3ce72f737"
            ]
          }
        },
        "cefa53cb45944462af1f89beb56bf786": {
          "model_module": "@jupyter-widgets/base",
          "model_name": "LayoutModel",
          "model_module_version": "1.2.0",
          "state": {
            "_view_name": "LayoutView",
            "grid_template_rows": null,
            "right": null,
            "justify_content": null,
            "_view_module": "@jupyter-widgets/base",
            "overflow": null,
            "_model_module_version": "1.2.0",
            "_view_count": null,
            "flex_flow": null,
            "width": null,
            "min_width": null,
            "border": null,
            "align_items": null,
            "bottom": null,
            "_model_module": "@jupyter-widgets/base",
            "top": null,
            "grid_column": null,
            "overflow_y": null,
            "overflow_x": null,
            "grid_auto_flow": null,
            "grid_area": null,
            "grid_template_columns": null,
            "flex": null,
            "_model_name": "LayoutModel",
            "justify_items": null,
            "grid_row": null,
            "max_height": null,
            "align_content": null,
            "visibility": null,
            "align_self": null,
            "height": null,
            "min_height": null,
            "padding": null,
            "grid_auto_rows": null,
            "grid_gap": null,
            "max_width": null,
            "order": null,
            "_view_module_version": "1.2.0",
            "grid_template_areas": null,
            "object_position": null,
            "object_fit": null,
            "grid_auto_columns": null,
            "margin": null,
            "display": null,
            "left": null
          }
        },
        "9c7a8210b56741f1bc41d91f96b505af": {
          "model_module": "@jupyter-widgets/controls",
          "model_name": "HTMLModel",
          "model_module_version": "1.5.0",
          "state": {
            "_view_name": "HTMLView",
            "style": "IPY_MODEL_5be1bf5035d745bdae856bfafbfc4160",
            "_dom_classes": [],
            "description": "",
            "_model_name": "HTMLModel",
            "placeholder": "​",
            "_view_module": "@jupyter-widgets/controls",
            "_model_module_version": "1.5.0",
            "value": "100%",
            "_view_count": null,
            "_view_module_version": "1.5.0",
            "description_tooltip": null,
            "_model_module": "@jupyter-widgets/controls",
            "layout": "IPY_MODEL_e3cfe7c7f1094f36891b1f39421103f9"
          }
        },
        "89378fbd406344928d210526e395fe87": {
          "model_module": "@jupyter-widgets/controls",
          "model_name": "FloatProgressModel",
          "model_module_version": "1.5.0",
          "state": {
            "_view_name": "ProgressView",
            "style": "IPY_MODEL_e79d61d7cf704c3a98e6cfd29001550d",
            "_dom_classes": [],
            "description": "",
            "_model_name": "FloatProgressModel",
            "bar_style": "success",
            "max": 9003,
            "_view_module": "@jupyter-widgets/controls",
            "_model_module_version": "1.5.0",
            "value": 9003,
            "_view_count": null,
            "_view_module_version": "1.5.0",
            "orientation": "horizontal",
            "min": 0,
            "description_tooltip": null,
            "_model_module": "@jupyter-widgets/controls",
            "layout": "IPY_MODEL_ecab0e65c48a4493a79f99d1a4d2f6cc"
          }
        },
        "06876209cb304106b5064bc3ce72f737": {
          "model_module": "@jupyter-widgets/controls",
          "model_name": "HTMLModel",
          "model_module_version": "1.5.0",
          "state": {
            "_view_name": "HTMLView",
            "style": "IPY_MODEL_4756c57c739644679ef6cbe5d7e5e5da",
            "_dom_classes": [],
            "description": "",
            "_model_name": "HTMLModel",
            "placeholder": "​",
            "_view_module": "@jupyter-widgets/controls",
            "_model_module_version": "1.5.0",
            "value": " 9003/9003 [01:40&lt;00:00, 86.37it/s]",
            "_view_count": null,
            "_view_module_version": "1.5.0",
            "description_tooltip": null,
            "_model_module": "@jupyter-widgets/controls",
            "layout": "IPY_MODEL_7bc124bf629d438d858f1842a424ef8e"
          }
        },
        "5be1bf5035d745bdae856bfafbfc4160": {
          "model_module": "@jupyter-widgets/controls",
          "model_name": "DescriptionStyleModel",
          "model_module_version": "1.5.0",
          "state": {
            "_view_name": "StyleView",
            "_model_name": "DescriptionStyleModel",
            "description_width": "",
            "_view_module": "@jupyter-widgets/base",
            "_model_module_version": "1.5.0",
            "_view_count": null,
            "_view_module_version": "1.2.0",
            "_model_module": "@jupyter-widgets/controls"
          }
        },
        "e3cfe7c7f1094f36891b1f39421103f9": {
          "model_module": "@jupyter-widgets/base",
          "model_name": "LayoutModel",
          "model_module_version": "1.2.0",
          "state": {
            "_view_name": "LayoutView",
            "grid_template_rows": null,
            "right": null,
            "justify_content": null,
            "_view_module": "@jupyter-widgets/base",
            "overflow": null,
            "_model_module_version": "1.2.0",
            "_view_count": null,
            "flex_flow": null,
            "width": null,
            "min_width": null,
            "border": null,
            "align_items": null,
            "bottom": null,
            "_model_module": "@jupyter-widgets/base",
            "top": null,
            "grid_column": null,
            "overflow_y": null,
            "overflow_x": null,
            "grid_auto_flow": null,
            "grid_area": null,
            "grid_template_columns": null,
            "flex": null,
            "_model_name": "LayoutModel",
            "justify_items": null,
            "grid_row": null,
            "max_height": null,
            "align_content": null,
            "visibility": null,
            "align_self": null,
            "height": null,
            "min_height": null,
            "padding": null,
            "grid_auto_rows": null,
            "grid_gap": null,
            "max_width": null,
            "order": null,
            "_view_module_version": "1.2.0",
            "grid_template_areas": null,
            "object_position": null,
            "object_fit": null,
            "grid_auto_columns": null,
            "margin": null,
            "display": null,
            "left": null
          }
        },
        "e79d61d7cf704c3a98e6cfd29001550d": {
          "model_module": "@jupyter-widgets/controls",
          "model_name": "ProgressStyleModel",
          "model_module_version": "1.5.0",
          "state": {
            "_view_name": "StyleView",
            "_model_name": "ProgressStyleModel",
            "description_width": "",
            "_view_module": "@jupyter-widgets/base",
            "_model_module_version": "1.5.0",
            "_view_count": null,
            "_view_module_version": "1.2.0",
            "bar_color": null,
            "_model_module": "@jupyter-widgets/controls"
          }
        },
        "ecab0e65c48a4493a79f99d1a4d2f6cc": {
          "model_module": "@jupyter-widgets/base",
          "model_name": "LayoutModel",
          "model_module_version": "1.2.0",
          "state": {
            "_view_name": "LayoutView",
            "grid_template_rows": null,
            "right": null,
            "justify_content": null,
            "_view_module": "@jupyter-widgets/base",
            "overflow": null,
            "_model_module_version": "1.2.0",
            "_view_count": null,
            "flex_flow": null,
            "width": null,
            "min_width": null,
            "border": null,
            "align_items": null,
            "bottom": null,
            "_model_module": "@jupyter-widgets/base",
            "top": null,
            "grid_column": null,
            "overflow_y": null,
            "overflow_x": null,
            "grid_auto_flow": null,
            "grid_area": null,
            "grid_template_columns": null,
            "flex": null,
            "_model_name": "LayoutModel",
            "justify_items": null,
            "grid_row": null,
            "max_height": null,
            "align_content": null,
            "visibility": null,
            "align_self": null,
            "height": null,
            "min_height": null,
            "padding": null,
            "grid_auto_rows": null,
            "grid_gap": null,
            "max_width": null,
            "order": null,
            "_view_module_version": "1.2.0",
            "grid_template_areas": null,
            "object_position": null,
            "object_fit": null,
            "grid_auto_columns": null,
            "margin": null,
            "display": null,
            "left": null
          }
        },
        "4756c57c739644679ef6cbe5d7e5e5da": {
          "model_module": "@jupyter-widgets/controls",
          "model_name": "DescriptionStyleModel",
          "model_module_version": "1.5.0",
          "state": {
            "_view_name": "StyleView",
            "_model_name": "DescriptionStyleModel",
            "description_width": "",
            "_view_module": "@jupyter-widgets/base",
            "_model_module_version": "1.5.0",
            "_view_count": null,
            "_view_module_version": "1.2.0",
            "_model_module": "@jupyter-widgets/controls"
          }
        },
        "7bc124bf629d438d858f1842a424ef8e": {
          "model_module": "@jupyter-widgets/base",
          "model_name": "LayoutModel",
          "model_module_version": "1.2.0",
          "state": {
            "_view_name": "LayoutView",
            "grid_template_rows": null,
            "right": null,
            "justify_content": null,
            "_view_module": "@jupyter-widgets/base",
            "overflow": null,
            "_model_module_version": "1.2.0",
            "_view_count": null,
            "flex_flow": null,
            "width": null,
            "min_width": null,
            "border": null,
            "align_items": null,
            "bottom": null,
            "_model_module": "@jupyter-widgets/base",
            "top": null,
            "grid_column": null,
            "overflow_y": null,
            "overflow_x": null,
            "grid_auto_flow": null,
            "grid_area": null,
            "grid_template_columns": null,
            "flex": null,
            "_model_name": "LayoutModel",
            "justify_items": null,
            "grid_row": null,
            "max_height": null,
            "align_content": null,
            "visibility": null,
            "align_self": null,
            "height": null,
            "min_height": null,
            "padding": null,
            "grid_auto_rows": null,
            "grid_gap": null,
            "max_width": null,
            "order": null,
            "_view_module_version": "1.2.0",
            "grid_template_areas": null,
            "object_position": null,
            "object_fit": null,
            "grid_auto_columns": null,
            "margin": null,
            "display": null,
            "left": null
          }
        }
      }
    }
  },
  "cells": [
    {
      "cell_type": "markdown",
      "metadata": {
        "id": "view-in-github",
        "colab_type": "text"
      },
      "source": [
        "<a href=\"https://colab.research.google.com/github/nanom/textMining2021/blob/main/final_project/classification_model_training.ipynb\" target=\"_parent\"><img src=\"https://colab.research.google.com/assets/colab-badge.svg\" alt=\"Open In Colab\"/></a>"
      ]
    },
    {
      "cell_type": "markdown",
      "metadata": {
        "id": "2U0mDB1oKPeb"
      },
      "source": [
        "## 1) Initializations"
      ]
    },
    {
      "cell_type": "markdown",
      "metadata": {
        "id": "JuCqeKPJBohl"
      },
      "source": [
        "#### Install"
      ]
    },
    {
      "cell_type": "code",
      "metadata": {
        "id": "eu3AuwPWBsgk",
        "colab": {
          "base_uri": "https://localhost:8080/"
        },
        "outputId": "10fc6021-a743-4a8a-e01e-2bd82ebbe481"
      },
      "source": [
        "!pip install -U sentence-transformers --quiet"
      ],
      "execution_count": null,
      "outputs": [
        {
          "output_type": "stream",
          "name": "stdout",
          "text": [
            "\u001b[K     |████████████████████████████████| 78 kB 3.6 MB/s \n",
            "\u001b[K     |████████████████████████████████| 3.3 MB 11.4 MB/s \n",
            "\u001b[K     |████████████████████████████████| 3.3 MB 37.3 MB/s \n",
            "\u001b[K     |████████████████████████████████| 1.2 MB 44.7 MB/s \n",
            "\u001b[K     |████████████████████████████████| 61 kB 459 kB/s \n",
            "\u001b[K     |████████████████████████████████| 596 kB 17.0 MB/s \n",
            "\u001b[K     |████████████████████████████████| 895 kB 39.4 MB/s \n",
            "\u001b[?25h  Building wheel for sentence-transformers (setup.py) ... \u001b[?25l\u001b[?25hdone\n"
          ]
        }
      ]
    },
    {
      "cell_type": "markdown",
      "metadata": {
        "id": "HxmltYmSLKFy"
      },
      "source": [
        "#### Import libs"
      ]
    },
    {
      "cell_type": "code",
      "metadata": {
        "id": "aS_3Og16Ivbb"
      },
      "source": [
        "# --- Import libs ---\n",
        "import pandas as pd\n",
        "import random\n",
        "import numpy as np\n",
        "from tqdm.notebook import tqdm\n",
        "from collections import Counter\n",
        "import pickle\n",
        "from google_drive_downloader import GoogleDriveDownloader as gdd\n",
        "\n",
        "\n",
        "# Plotting libs\n",
        "import seaborn as snb\n",
        "import matplotlib.pyplot as plt\n",
        "from tabulate import tabulate\n",
        "\n",
        "# Classifier\n",
        "from sklearn.model_selection import train_test_split\n",
        "from sklearn.linear_model import LogisticRegression\n",
        "from sklearn.svm import LinearSVC\n",
        "from sklearn.calibration import CalibratedClassifierCV\n",
        "from sklearn.metrics import accuracy_score, confusion_matrix\n",
        "from sklearn.metrics.pairwise import cosine_similarity\n",
        "\n",
        "# Transformers\n",
        "from sentence_transformers import SentenceTransformer"
      ],
      "execution_count": null,
      "outputs": []
    },
    {
      "cell_type": "markdown",
      "metadata": {
        "id": "iQy5JcGSLsJW"
      },
      "source": [
        "#### Drive access and gral config"
      ]
    },
    {
      "cell_type": "code",
      "metadata": {
        "colab": {
          "base_uri": "https://localhost:8080/"
        },
        "id": "5sd_w3t8LrF3",
        "outputId": "bb47c696-1543-4759-fd7f-2c82b46dbddd"
      },
      "source": [
        "# --- Acceso a drive ---\n",
        "from google.colab import drive\n",
        "drive.mount('/content/gdrive', force_remount=True)\n",
        "\n",
        "# --- Files Path ----\n",
        "PATH = \"/content/gdrive/MyDrive/Doctorado/cursos_posgrado/textMining2021/proy_final/\"\n",
        "SOURCE_FOLDER = PATH + \"source/\"\n",
        "OUT_DFS_FOLDER = PATH + \"out_dataframes/\"\n",
        "CLUSTERING_DFS_FOLDER = PATH + 'clustering_dataframes/'\n",
        "MODELS_FOLDER = PATH + 'classifier_trained_models/'\n",
        "\n",
        "# --- pandas progress ----\n",
        "tqdm.pandas()"
      ],
      "execution_count": null,
      "outputs": [
        {
          "output_type": "stream",
          "name": "stdout",
          "text": [
            "Mounted at /content/gdrive\n"
          ]
        }
      ]
    },
    {
      "cell_type": "markdown",
      "metadata": {
        "id": "Ch9OL_fZN6H2"
      },
      "source": [
        "#### Main functions"
      ]
    },
    {
      "cell_type": "code",
      "metadata": {
        "id": "lVI-lhBfJ_zr"
      },
      "source": [
        "def label2CatName(cluster_label):\n",
        "    ### Get Category name from cluster label\n",
        "\n",
        "    category = 'none'\n",
        "\n",
        "    # Old clasificaton\n",
        "    dic_v1 = { 'c0':{ 'name':\"color\",          'clusters_assigned':[0]},\n",
        "                'c1':{ 'name':\"ocr\",            'clusters_assigned':[16]},\n",
        "                'c2':{  'name':\"description\",   'clusters_assigned':[1,10,15]},\n",
        "                'c3':{  'name':\"main_obj\",      'clusters_assigned':[2]},\n",
        "                'c4':{  'name':\"relative_obj\",  'clusters_assigned':[14]},\n",
        "                'c5':{  'name':\"explication\",   'clusters_assigned':[4]},\n",
        "                'c6':{  'name':\"choice\",        'clusters_assigned':[5]},\n",
        "                'c7':{  'name':\"class\",        'clusters_assigned':[8,11]},\n",
        "                'c8':{  'name':\"yes_no\",        'clusters_assigned':[12,13]}}\n",
        "\n",
        "    # New clasification\n",
        "    dic_v2 = { 'c0':{ 'name':\"color\",          'clusters_assigned':[0]},\n",
        "                'c1':{ 'name':\"ocr\",            'clusters_assigned':[16,3]},\n",
        "                'c2':{  'name':\"observation\",   'clusters_assigned':[1]},\n",
        "                'c3':{  'name':\"ident\",      'clusters_assigned':[2,8,11,6]},\n",
        "                'c4':{  'name':\"rel_ident\",  'clusters_assigned':[14]},\n",
        "                'c5':{  'name':\"explication\",   'clusters_assigned':[4,10,15]},\n",
        "                'c6':{  'name':\"choice\",        'clusters_assigned':[5]},\n",
        "                'c7':{  'name':\"yes_no\",        'clusters_assigned':[12,13]}}\n",
        "\n",
        "    cat_dic = dic_v2\n",
        "    for k, val in cat_dic.items():\n",
        "        if cluster_label in val['clusters_assigned']:\n",
        "            category = val['name']\n",
        "            break\n",
        "\n",
        "    return category\n",
        "\n",
        "def assignCategories(df, take_top_qs=80):\n",
        "    \"\"\"\n",
        "    Assign to clusters dataset, categories according to cluster label \n",
        "    \"\"\"\n",
        "    # Assign category to each salient claters (None for not salient clusters)\n",
        "    df = df.assign(category=[label2CatName(l) for l in df.labels.to_list() ])\n",
        "    # Filter None categories\n",
        "    df = df[df.category != 'none']\n",
        "    # Get top question for each salient clusters\n",
        "    df = df.sort_values('dist').groupby('labels').head(take_top_qs)\n",
        "\n",
        "    # Get (top_qs / num_labels in category) question for each salient clusters\n",
        "    full = df[df.category == 'none']\n",
        "    for c in df.category.unique():\n",
        "        labels_list = df[df.category == c].labels.unique()\n",
        "        num_by_label = int(take_top_qs / len(labels_list))\n",
        "        full = pd.concat( [df[df.labels.isin(labels_list)].groupby('labels').head(num_by_label), full])\n",
        "\n",
        "    full.reset_index(drop=True, inplace=True)\n",
        "    return full\n",
        "\n",
        "def printDf(df, n_samples=20, category=None, label=None):\n",
        "    ### Print dataframe in readable form\n",
        "    if category:\n",
        "        if category not in df.category.unique():\n",
        "            sys.exit(\"Error!. Select one of these 'categories': {}\".format(df.category.unique()))\n",
        "        df = df[df.category == category]\n",
        "\n",
        "    if label != None:\n",
        "        if label not in df.labels.unique():\n",
        "            sys.exit(\"Error!. Select one of these 'labels': {}\".format(df.labels.unique()))\n",
        "        df = df[df.labels == label]\n",
        "    \n",
        "    df = df[['labels','category','question']]\n",
        "    n_samples = min(n_samples, len(df))\n",
        "    print(tabulate(df.sample(n_samples), headers='keys', tablefmt='presto', showindex='False'))\n",
        "\n",
        "def predictClustersCategories(model, df, n_samples=20, s_label=None, category=None):\n",
        "    \"\"\"\n",
        "    - df: The dataframe must contain the columns: question, labels, embedding\n",
        "    \"\"\"\n",
        "\n",
        "    # Get features to predict categories\n",
        "    x = np.array(df.embedding.to_list())\n",
        "    \n",
        "    # Predict categories reference\n",
        "    df = df.assign(category=model.predict(x))[['category','question', 'labels']]\n",
        "\n",
        "    # # Add categories name column\n",
        "    # df = df.assign(category=df.cat_ref.progress_apply(lambda cr: getCatname(cr)))\n",
        "    # df = df[['category', 'question', 'labels']]\n",
        "\n",
        "    if s_label in df.labels.unique():\n",
        "        df = df[df.labels == s_label]\n",
        "    if category in df.category.unique():\n",
        "        df = df[df.category == category]\n",
        "    \n",
        "    if n_samples: \n",
        "        df = df.sample(n_samples)\n",
        "    \n",
        "    df.groupby('category')['category'].count()\n",
        "    \n",
        "    return df\n",
        "\n",
        "def plotCategoriesDist(predict):\n",
        "    \"\"\"\n",
        "    Plot the distribution graph of the categories prediction of clusters dataset\n",
        "    \"\"\"\n",
        "    res = predict.groupby('category')['category'].count().to_frame()\n",
        "    res = res.rename(columns={'category':'val'})\n",
        "\n",
        "    # Plot\n",
        "    g = snb.barplot(data=res, x=res.index, y='val')\n",
        "    g.set_xlabel(\"Categories\")\n",
        "    g.set_ylabel(\"Freq\")\n",
        "    plt.xticks(rotation=60)\n",
        "    plt.title(\"Categories distribution\")\n",
        "    plt.show()\n",
        "\n",
        "# --- Training ---\n",
        "\n",
        "def trainLogRegessionModel(data, split=.2, save=False):\n",
        "\n",
        "    # Get features and labels\n",
        "    x = np.array(data.embedding.to_list())\n",
        "    y = data.category.values\n",
        "\n",
        "    # Split in train and test sets\n",
        "    x_train, x_test, y_train, y_test = train_test_split(x, y, test_size=split, random_state=45)\n",
        "    print(\"Train samples: {}, Test samples: {}\".format(len(x_train), len(x_test)))\n",
        "\n",
        "    # Train classifier\n",
        "    model = LogisticRegression(solver='lbfgs', multi_class='auto', max_iter=600)\n",
        "    model.fit(x_train,y_train)\n",
        "\n",
        "    # Predictions\n",
        "    y_train_pred = model.predict(x_train)\n",
        "    y_test_pred = model.predict(x_test)\n",
        "\n",
        "    # Calculate accuracy of models\n",
        "    train_acc = accuracy_score(y_train,y_train_pred)\n",
        "    test_acc = accuracy_score(y_test, y_test_pred)\n",
        "\n",
        "    print(\"Train Accuracy: {:.6f}\".format(train_acc))\n",
        "    print(\"Test Accuracy: {:.6f}\".format(test_acc))\n",
        "\n",
        "    # Cofusión matrix\n",
        "    comatrix = confusion_matrix(y_test, y_test_pred)\n",
        "    fig, ax = plt.subplots(figsize=(8,8))\n",
        "    g = snb.heatmap(comatrix, annot=True,ax=ax, square=True)\n",
        "    g.set_xlabel(\"Categories predicted\")\n",
        "    g.set_ylabel(\"Categories ground True\")\n",
        "\n",
        "    plt.title(\"Train acc:{:.3f}, Test acc:{:.3f}\\nQsByCategory:{}, Train samples: {}, Test samples: {}\".format(\n",
        "        train_acc, \n",
        "        test_acc, \n",
        "        data.groupby('category')['category'].count().values[0], \n",
        "        len(x_train), len(x_test)))\n",
        "    \n",
        "    # Save\n",
        "    if save:\n",
        "         plt.savefig(input(\"Input_name: \")+\".pdf\", format='pdf', bbox_inches='tight')\n",
        "    plt.show(block=False)\n",
        "\n",
        "    return model\n",
        "\n",
        "def trainSvcModel(data, split=.2, save=False):\n",
        "\n",
        "    # Get features and labels\n",
        "    x = np.array(data.embedding.to_list())\n",
        "    y = data.category.values\n",
        "\n",
        "    # Split in train and test sets\n",
        "    x_train, x_test, y_train, y_test = train_test_split(x, y, test_size=split, random_state=45)\n",
        "    print(\"Train samples: {}, Test samples: {}\".format(len(x_train), len(x_test)))\n",
        "\n",
        "    # Train classifier\n",
        "    svm = LinearSVC(multi_class='ovr')\n",
        "    # Agrega probabilidades de clases a LinearSvc visibiliza method predict.proba()\n",
        "    model = CalibratedClassifierCV(svm)\n",
        "    model.fit(x_train,y_train)\n",
        "\n",
        "    # Predictions\n",
        "    y_train_pred = model.predict(x_train)\n",
        "    y_test_pred = model.predict(x_test)\n",
        "\n",
        "    # Calculate accuracy of models\n",
        "    train_acc = accuracy_score(y_train,y_train_pred)\n",
        "    test_acc = accuracy_score(y_test, y_test_pred)\n",
        "\n",
        "    print(\"Train Accuracy: {:.6f}\".format(train_acc))\n",
        "    print(\"Test Accuracy: {:.6f}\".format(test_acc))\n",
        "\n",
        "    # Cofusión matrix\n",
        "    comatrix = confusion_matrix(y_test, y_test_pred)\n",
        "    fig, ax = plt.subplots(figsize=(8,8))\n",
        "    g = snb.heatmap(comatrix, annot=True,ax=ax, square=True)\n",
        "    g.set_xlabel(\"Categories predicted\")\n",
        "    g.set_ylabel(\"Ground True\")\n",
        "\n",
        "    plt.title(\"Train acc:{:.3f}, Test acc:{:.3f}\\nQsByCategory:{}, Train samples: {}, Test samples: {}\".format(\n",
        "        train_acc, \n",
        "        test_acc, \n",
        "        data.groupby('category')['category'].count().values[0], \n",
        "        len(x_train), len(x_test)))\n",
        "\n",
        "    # Save\n",
        "    if save:\n",
        "         plt.savefig(input(\"Input_name: \")+\".pdf\", format='pdf', bbox_inches='tight')\n",
        "    plt.show(block=False)\n",
        "\n",
        "    return model\n",
        "\n",
        "def getEmbedding(embedding_model, question):\n",
        "    \"\"\"\n",
        "    Get embedding from question\n",
        "    \"\"\"\n",
        "    return embedding_model.encode(question)\n",
        "\n",
        "# --- Models ---\n",
        "\n",
        "def saveClassifierModel(classifier_model, embedding_model, filename):\n",
        "    models = [classifier_model, embedding_model]\n",
        "\n",
        "    # Save to file in the current working directory\n",
        "    full_filename = MODELS_FOLDER+filename+\".pkl\"\n",
        "    with open(full_filename, 'wb') as file:\n",
        "        pickle.dump(models, file)\n",
        "    print(\"Model '{}' save succesfully!\".format(filename))\n",
        "\n",
        "def loadClassifierModel(filename):\n",
        "    full_filename = MODELS_FOLDER+filename+\".pkl\"\n",
        "    with open(full_filename, 'rb') as file:\n",
        "        classifier_model, embedding_model = pickle.load(file)    \n",
        "    return [classifier_model, embedding_model]\n",
        "\n",
        "def loadClassifierUrlModel(drive_url):\n",
        "    dest_path = \"./data/classifier_model.pkl\"\n",
        "\n",
        "    # get url_id\n",
        "    drive_url_id = drive_url.split(\"https://drive.google.com/file/d/\")[1]\n",
        "    drive_url_id = drive_url_id.split(\"/\")[0]\n",
        "    \n",
        "    # Download model\n",
        "    gdd.download_file_from_google_drive(file_id=drive_url_id, dest_path=dest_path)\n",
        "    \n",
        "    # Load model\n",
        "    with open(dest_path, 'rb') as file:\n",
        "        classifier_model, embedding_model = pickle.load(file)    \n",
        "    return [classifier_model, embedding_model]"
      ],
      "execution_count": null,
      "outputs": []
    },
    {
      "cell_type": "markdown",
      "metadata": {
        "id": "daT5WpDIB6g6"
      },
      "source": [
        "# 2) Generate embedding"
      ]
    },
    {
      "cell_type": "markdown",
      "metadata": {
        "id": "a2BsqeweYQ82"
      },
      "source": [
        "##### Using bert-base-uncased transformer"
      ]
    },
    {
      "cell_type": "code",
      "metadata": {
        "id": "1XrIT5wd7X5v"
      },
      "source": [
        "# --- Load embedding model\n",
        "trf_model1 = SentenceTransformer('bert-base-uncased')\n",
        "\n",
        "# Load obtained clusters (1,10-grmas, min_df=10, qs_lemmas+best_ans, k=17)\n",
        "clusters = pd.read_pickle(CLUSTERING_DFS_FOLDER+\"opc2:lemas:17:1_10grama:clustering_embeddings.pkl\")\n",
        "\n",
        "# Get embedding\n",
        "clusters = clusters.assign(embedding=clusters.question.progress_apply(lambda qs: getEmbedding(trf_model1, qs)))\n",
        "\n",
        "# Save clusters with bert embeddings\n",
        "clusters.to_pickle(CLUSTERING_DFS_FOLDER+\"opc2:lemas:17:1_10grama:bert-base-uncased_embeddings.pkl\")\n",
        "clusters.sample(9)"
      ],
      "execution_count": null,
      "outputs": []
    },
    {
      "cell_type": "markdown",
      "metadata": {
        "id": "nRKpeozm4vnK"
      },
      "source": [
        "##### Using MiniLM-L6-v2 transformer"
      ]
    },
    {
      "cell_type": "code",
      "metadata": {
        "colab": {
          "base_uri": "https://localhost:8080/",
          "height": 364,
          "referenced_widgets": [
            "bbda380211fc43a08886e1db2e252fae",
            "cefa53cb45944462af1f89beb56bf786",
            "9c7a8210b56741f1bc41d91f96b505af",
            "89378fbd406344928d210526e395fe87",
            "06876209cb304106b5064bc3ce72f737",
            "5be1bf5035d745bdae856bfafbfc4160",
            "e3cfe7c7f1094f36891b1f39421103f9",
            "e79d61d7cf704c3a98e6cfd29001550d",
            "ecab0e65c48a4493a79f99d1a4d2f6cc",
            "4756c57c739644679ef6cbe5d7e5e5da",
            "7bc124bf629d438d858f1842a424ef8e"
          ]
        },
        "id": "R8TWVL514vnN",
        "outputId": "0a7e8db7-22ba-47cf-f8ec-0eff0339288b"
      },
      "source": [
        "# --- Load embedding model\n",
        "trf_model2 = SentenceTransformer('all-MiniLM-L6-v2')\n",
        "\n",
        "# Load obtained clusters (1,10-grmas, min_df=10, qs_lemmas+best_ans, k=17)\n",
        "clusters = pd.read_pickle(CLUSTERING_DFS_FOLDER+\"opc2:lemas:17:1_10grama:clustering_embeddings.pkl\")\n",
        "\n",
        "# Get embedding\n",
        "clusters = clusters.assign(embedding=clusters.question.progress_apply(lambda qs: getEmbedding(trf_model2, qs)))\n",
        "\n",
        "# Save clusters with bert embeddings\n",
        "clusters.to_pickle(CLUSTERING_DFS_FOLDER+\"opc2:lemas:17:1_10grama:all-MiniLM-L6-v2_embeddings.pkl\")\n",
        "clusters.sample(9)"
      ],
      "execution_count": null,
      "outputs": [
        {
          "output_type": "display_data",
          "data": {
            "application/vnd.jupyter.widget-view+json": {
              "model_id": "bbda380211fc43a08886e1db2e252fae",
              "version_minor": 0,
              "version_major": 2
            },
            "text/plain": [
              "  0%|          | 0/9003 [00:00<?, ?it/s]"
            ]
          },
          "metadata": {}
        },
        {
          "output_type": "execute_result",
          "data": {
            "text/html": [
              "<div>\n",
              "<style scoped>\n",
              "    .dataframe tbody tr th:only-of-type {\n",
              "        vertical-align: middle;\n",
              "    }\n",
              "\n",
              "    .dataframe tbody tr th {\n",
              "        vertical-align: top;\n",
              "    }\n",
              "\n",
              "    .dataframe thead th {\n",
              "        text-align: right;\n",
              "    }\n",
              "</style>\n",
              "<table border=\"1\" class=\"dataframe\">\n",
              "  <thead>\n",
              "    <tr style=\"text-align: right;\">\n",
              "      <th></th>\n",
              "      <th>question</th>\n",
              "      <th>answers</th>\n",
              "      <th>labels</th>\n",
              "      <th>dist</th>\n",
              "      <th>embedding</th>\n",
              "    </tr>\n",
              "  </thead>\n",
              "  <tbody>\n",
              "    <tr>\n",
              "      <th>4464</th>\n",
              "      <td>what candies are these?</td>\n",
              "      <td>[(unanswerable, 4), (unsuitable, 4), (turn bag...</td>\n",
              "      <td>4</td>\n",
              "      <td>0.397193</td>\n",
              "      <td>[-0.028914738, 0.013034927, -0.041560605, 0.03...</td>\n",
              "    </tr>\n",
              "    <tr>\n",
              "      <th>1712</th>\n",
              "      <td>what does this picture look like?</td>\n",
              "      <td>[(flowers, 3), (sunflowers, 2), (sunflowers in...</td>\n",
              "      <td>1</td>\n",
              "      <td>0.316627</td>\n",
              "      <td>[-0.02593615, 0.17057183, -0.02539249, 0.02309...</td>\n",
              "    </tr>\n",
              "    <tr>\n",
              "      <th>2179</th>\n",
              "      <td>what is the expiration date</td>\n",
              "      <td>[(unsuitable, 5), (unanswerable, 3), (10 31 17...</td>\n",
              "      <td>3</td>\n",
              "      <td>0.295301</td>\n",
              "      <td>[-0.06013988, 0.029791307, -0.055284753, 0.067...</td>\n",
              "    </tr>\n",
              "    <tr>\n",
              "      <th>4615</th>\n",
              "      <td>what is in this can please, thank you</td>\n",
              "      <td>[(peaches, 6), (can peaches, 1), (canned peach...</td>\n",
              "      <td>14</td>\n",
              "      <td>0.367355</td>\n",
              "      <td>[-0.09915717, 0.09807634, -0.03398538, -0.0203...</td>\n",
              "    </tr>\n",
              "    <tr>\n",
              "      <th>4074</th>\n",
              "      <td>is this hand soap?</td>\n",
              "      <td>[(yes, 7), (ues, 1), (unanswerable, 1), (dfvdf...</td>\n",
              "      <td>12</td>\n",
              "      <td>0.342290</td>\n",
              "      <td>[-0.041228965, -0.038565565, -0.0068859756, -0...</td>\n",
              "    </tr>\n",
              "    <tr>\n",
              "      <th>5564</th>\n",
              "      <td>can you tell me what this is please, thank you.</td>\n",
              "      <td>[(chicken broth, 7), (carton chicken broth, 1)...</td>\n",
              "      <td>11</td>\n",
              "      <td>0.348242</td>\n",
              "      <td>[-0.070395745, 0.069233544, -0.031916313, -0.0...</td>\n",
              "    </tr>\n",
              "    <tr>\n",
              "      <th>6141</th>\n",
              "      <td>tell me the name of this cd.</td>\n",
              "      <td>[(classics, 7), (unanswerable, 2), (unsuitable...</td>\n",
              "      <td>15</td>\n",
              "      <td>0.382365</td>\n",
              "      <td>[-0.040260646, 0.081465505, 0.010783726, 0.016...</td>\n",
              "    </tr>\n",
              "    <tr>\n",
              "      <th>3806</th>\n",
              "      <td>can you read the label on this?</td>\n",
              "      <td>[(yes, 3), (cherry limeade, 2), (cherry limead...</td>\n",
              "      <td>12</td>\n",
              "      <td>0.491774</td>\n",
              "      <td>[-0.031974096, 0.01826334, -0.098450445, 0.082...</td>\n",
              "    </tr>\n",
              "    <tr>\n",
              "      <th>5890</th>\n",
              "      <td>what is the current temperature?</td>\n",
              "      <td>[(75, 7), (unanswerable, 1), (75 degrees, 1), ...</td>\n",
              "      <td>3</td>\n",
              "      <td>0.299354</td>\n",
              "      <td>[0.0006625451, 0.03416726, -0.03363985, 0.0738...</td>\n",
              "    </tr>\n",
              "  </tbody>\n",
              "</table>\n",
              "</div>"
            ],
            "text/plain": [
              "                                             question  ...                                          embedding\n",
              "4464                          what candies are these?  ...  [-0.028914738, 0.013034927, -0.041560605, 0.03...\n",
              "1712                what does this picture look like?  ...  [-0.02593615, 0.17057183, -0.02539249, 0.02309...\n",
              "2179                      what is the expiration date  ...  [-0.06013988, 0.029791307, -0.055284753, 0.067...\n",
              "4615            what is in this can please, thank you  ...  [-0.09915717, 0.09807634, -0.03398538, -0.0203...\n",
              "4074                               is this hand soap?  ...  [-0.041228965, -0.038565565, -0.0068859756, -0...\n",
              "5564  can you tell me what this is please, thank you.  ...  [-0.070395745, 0.069233544, -0.031916313, -0.0...\n",
              "6141                     tell me the name of this cd.  ...  [-0.040260646, 0.081465505, 0.010783726, 0.016...\n",
              "3806                  can you read the label on this?  ...  [-0.031974096, 0.01826334, -0.098450445, 0.082...\n",
              "5890                 what is the current temperature?  ...  [0.0006625451, 0.03416726, -0.03363985, 0.0738...\n",
              "\n",
              "[9 rows x 5 columns]"
            ]
          },
          "metadata": {},
          "execution_count": 27
        }
      ]
    },
    {
      "cell_type": "markdown",
      "source": [
        "# 3) Model training "
      ],
      "metadata": {
        "id": "8Uxtm8HiR-q3"
      }
    },
    {
      "cell_type": "markdown",
      "metadata": {
        "id": "geIWv5X9lSDe"
      },
      "source": [
        "### Base: Logistic Regression + features obtained from previous clusterization"
      ]
    },
    {
      "cell_type": "markdown",
      "metadata": {
        "id": "_ImXzpVqO4Qf"
      },
      "source": [
        "#### Train"
      ]
    },
    {
      "cell_type": "code",
      "metadata": {
        "colab": {
          "base_uri": "https://localhost:8080/",
          "height": 543
        },
        "id": "DAsxEd6RO3WJ",
        "outputId": "f2036602-f523-4b3b-a008-94699c205ef2"
      },
      "source": [
        "# Asign categories to salient clusters\n",
        "clusters = pd.read_pickle(CLUSTERING_DFS_FOLDER+\"opc2:lemas:17:1_10grama:clustering_embeddings.pkl\")\n",
        "\n",
        "# Get the top question of each salient cluster, and assign the according categories\n",
        "data = assignCategories(clusters, take_top_qs=45)\n",
        "\n",
        "# Train\n",
        "model = trainLogRegessionModel(data, save=1)"
      ],
      "execution_count": null,
      "outputs": [
        {
          "name": "stdout",
          "output_type": "stream",
          "text": [
            "Train samples: 322, Test samples: 81\n",
            "Train Accuracy: 0.996894\n",
            "Test Accuracy: 0.987654\n",
            "Input_name: training_vector_v1\n"
          ]
        },
        {
          "output_type": "display_data",
          "data": {
            "image/png": "[encoded data removed]",
            "text/plain": [
              "<Figure size 576x576 with 2 Axes>"
            ]
          },
          "metadata": {
            "needs_background": "light"
          }
        }
      ]
    },
    {
      "cell_type": "markdown",
      "metadata": {
        "id": "Yhkv8QcTuJfT"
      },
      "source": [
        "#### Test Results"
      ]
    },
    {
      "cell_type": "code",
      "metadata": {
        "colab": {
          "base_uri": "https://localhost:8080/"
        },
        "id": "FKCKVwRVQ-fJ",
        "outputId": "f43ff1e6-cd0b-42f8-efd9-2546281ea022"
      },
      "source": [
        "# Predict all questions categories from cluster dataframe\n",
        "predict = predictClustersCategories(model, clusters, n_samples=None)\n",
        "plotCategoriesDist(predict)"
      ],
      "execution_count": null,
      "outputs": [
        {
          "output_type": "display_data",
          "data": {
            "image/png": "[encoded data removed]",
            "text/plain": [
              "<Figure size 432x288 with 1 Axes>"
            ]
          },
          "metadata": {
            "needs_background": "light"
          }
        }
      ]
    },
    {
      "cell_type": "markdown",
      "metadata": {
        "id": "jIHbiJEP0XPe"
      },
      "source": [
        "###### Random samples"
      ]
    },
    {
      "cell_type": "code",
      "metadata": {
        "colab": {
          "base_uri": "https://localhost:8080/"
        },
        "id": "vW8TeTJ40XPi",
        "outputId": "f99f6a60-f238-4933-eb24-9f1bda46d68c"
      },
      "source": [
        "printDf(predictClustersCategories(model, clusters, n_samples=30))"
      ],
      "execution_count": null,
      "outputs": [
        {
          "output_type": "stream",
          "name": "stdout",
          "text": [
            " category    | question                                                                                  |   labels\n",
            "-------------+-------------------------------------------------------------------------------------------+----------\n",
            " ident       | what is this bottle of mobile?                                                            |        2\n",
            " ident       | what is this dvd?                                                                         |        2\n",
            " rel_ident   | what bill is that?                                                                        |       11\n",
            " rel_ident   | what is on this menu?                                                                     |       16\n",
            " observation | what did i just read on my pc?                                                            |        1\n",
            " explication | can you please describe this label to me thank you?                                       |        9\n",
            " explication | this stinks.                                                                              |        9\n",
            " explication | please read the name of the person written in either print or shorthand on this envelope? |       15\n",
            " rel_ident   | what is on the bottle?                                                                    |        7\n",
            " explication | this is the display of a treadmill, could you tell me the distance in miles please?       |       15\n",
            " ocr         | what is the cooking instructions for this product?                                        |       16\n",
            " explication | can you tell me the color of this table?                                                  |       15\n",
            " rel_ident   | what kind of pastries are these?                                                          |        8\n",
            " explication | who are the wrestlers in on this dvd?                                                     |       15\n",
            " yes_no      | is this a raging boil?                                                                    |       12\n",
            " explication | which eye drops are these?                                                                |        9\n",
            " rel_ident   | what is my slow cooker set to?                                                            |       16\n",
            " ocr         | what is the label on this package?                                                        |        3\n",
            " yes_no      | sky looks stormy.                                                                         |       12\n",
            " ident       | what kind of dressing is this?                                                            |        8\n",
            " ocr         | which purplish light is darker the one on the left or the one on the right?               |       15\n",
            " rel_ident   | what is all information on the bottom of this modem?                                      |        7\n",
            " color       | can you tell me what color this top is please?                                            |       11\n",
            " explication | read me this captcha please.                                                              |       10\n",
            " rel_ident   | what kind of creamer is that?                                                             |        8\n",
            " color       | what color is the embroidery in these jeans?                                              |        0\n",
            " observation | what does this receipt say.                                                               |        1\n",
            " ocr         | what is the color of this skirt?                                                          |        3\n",
            " color       | what color is this banana hair clip?                                                      |        0\n",
            " observation | can you tell me what this paper says?                                                     |        7\n"
          ]
        }
      ]
    },
    {
      "cell_type": "markdown",
      "metadata": {
        "id": "3WhFrzIF0FwA"
      },
      "source": [
        "###### Random samples by category name"
      ]
    },
    {
      "cell_type": "code",
      "metadata": {
        "colab": {
          "base_uri": "https://localhost:8080/"
        },
        "id": "fQySNmhMudwA",
        "outputId": "b6fa2231-8871-43af-9a8d-e40b6de7929b"
      },
      "source": [
        "for name in predict.category.unique():\n",
        "    printDf(predictClustersCategories(model, clusters, n_samples=20, category=name))\n",
        "    print(\"\")"
      ],
      "execution_count": null,
      "outputs": [
        {
          "output_type": "stream",
          "name": "stdout",
          "text": [
            " category   | question                                                                        |   labels\n",
            "------------+---------------------------------------------------------------------------------+----------\n",
            " ocr        | what is the brand name of this detergent?                                       |        3\n",
            " ocr        | what is the dosage information for this supplement?                             |       16\n",
            " ocr        | i am staying in a high rise hotel and i am curious of the view from the window. |       15\n",
            " ocr        | what is the color for this keyboard?                                            |        3\n",
            " ocr        | what is the brand of this unit?                                                 |       16\n",
            " ocr        | what is the source of this image?                                               |       16\n",
            " ocr        | what kind of book is this and how thick is the book?                            |        8\n",
            " ocr        | what is the taste of these candies?                                             |        3\n",
            " ocr        | what is the brand of this chocolate?                                            |        3\n",
            " ocr        | what is the answer?                                                             |       16\n",
            " ocr        | what is the expiration date on this item?                                       |       16\n",
            " ocr        | what are the colors from left to right?                                         |        3\n",
            " ocr        | what is the color of this shirt?                                                |        3\n",
            " ocr        | what are the labels in this row of buttons?                                     |        3\n",
            " ocr        | what are the directions for this meal?                                          |        3\n",
            " ocr        | what is the wireless key in this picture?                                       |       16\n",
            " ocr        | what is the label on this bottle, please?                                       |        3\n",
            " ocr        | what the heck is growing on the side of my house?                               |       15\n",
            " ocr        | what is the frequency in the display?                                           |        3\n",
            " ocr        | what is the label on this bottle say?                                           |       16\n",
            "\n",
            " category   | question                                        |   labels\n",
            "------------+-------------------------------------------------+----------\n",
            " rel_ident  | can you tell me what screen this is?            |       11\n",
            " rel_ident  | what is in this pitcher?                        |       16\n",
            " rel_ident  | what is my computer doing?                      |       14\n",
            " rel_ident  | what product is that?                           |        7\n",
            " rel_ident  | what brand of potatoes are these?               |       11\n",
            " rel_ident  | what is on this computer screen?                |        7\n",
            " rel_ident  | what shape would say the clouds were in?        |       11\n",
            " rel_ident  | what is in the picture?                         |       14\n",
            " rel_ident  | what is in these cans?                          |       14\n",
            " rel_ident  | what is my color of what is color of my shirt?  |       14\n",
            " rel_ident  | what time is it                                 |       11\n",
            " rel_ident  | what is on the back of that card?               |        7\n",
            " rel_ident  | what is in this box                             |       14\n",
            " rel_ident  | what are these pills?                           |       14\n",
            " rel_ident  | what is in this screen?                         |       16\n",
            " rel_ident  | what brand of earbuds are these?                |       11\n",
            " rel_ident  | what are scissors?                              |       14\n",
            " rel_ident  | can you identify what is in the box?            |       15\n",
            " rel_ident  | can you tell what make of a hair dryer this is? |       11\n",
            " rel_ident  | what is on the screen now                       |       14\n",
            "\n",
            " category   | question                                        |   labels\n",
            "------------+-------------------------------------------------+----------\n",
            " ident      | what is this an image of                        |        2\n",
            " ident      | what is this coin?                              |        2\n",
            " ident      | can you tell me what household product this is? |       11\n",
            " ident      | what kind of salad dressing is this             |        8\n",
            " ident      | what schwan's dinner is this?                   |        6\n",
            " ident      | what is this piece of paper appear to say?      |        2\n",
            " ident      | what is this soda called?                       |        2\n",
            " ident      | what is this thing?                             |        2\n",
            " ident      | what kind of beer is this please?               |        8\n",
            " ident      | what is this is can?                            |        2\n",
            " ident      | what kind is seizing is this?                   |        6\n",
            " ident      | what design is this?                            |        6\n",
            " ident      | what is this in this picture?                   |        2\n",
            " ident      | what kind of tablet is this?                    |        8\n",
            " ident      | what record album is this?                      |        6\n",
            " ident      | what flavor of cream of wheat is this?          |        6\n",
            " ident      | what type of medicine is this?                  |        7\n",
            " ident      | what is this food product?                      |        2\n",
            " ident      | what kind of juice is this?                     |        8\n",
            " ident      | what is this soup?                              |        2\n",
            "\n",
            " category    | question                                                                                                                                                                                         |   labels\n",
            "-------------+--------------------------------------------------------------------------------------------------------------------------------------------------------------------------------------------------+----------\n",
            " explication | try to focus thi                                                                                                                                                                                 |        9\n",
            " explication | how much does my check read?                                                                                                                                                                     |       10\n",
            " explication | de que color es?                                                                                                                                                                                 |       10\n",
            " explication | which item is highlighted?                                                                                                                                                                       |        7\n",
            " explication | how do you take care of a bird?                                                                                                                                                                  |        9\n",
            " explication | hi can you tell me what kind of coffee this may be?                                                                                                                                              |        8\n",
            " explication | how hard is my penis?                                                                                                                                                                            |        9\n",
            " explication | what food is this, please?                                                                                                                                                                       |        4\n",
            " explication | i am still waiting to see if there are instructions for a conventional oven on here, the temperature and number of minutes and whether to puncture it, is it on this side of the box, thank you. |       15\n",
            " explication | how do you cook this?                                                                                                                                                                            |       10\n",
            " explication | the screen                                                                                                                                                                                       |        9\n",
            " explication | which product is this?                                                                                                                                                                           |        4\n",
            " explication | what kind of meds are these?                                                                                                                                                                     |        8\n",
            " explication | what tv set is this?                                                                                                                                                                             |        6\n",
            " explication | hello, could you please tell what caller this is?                                                                                                                                                |       11\n",
            " explication | what kind of tree is this?                                                                                                                                                                       |        8\n",
            " explication | who is this character?                                                                                                                                                                           |        4\n",
            " explication | can you describe the photo which is displayed on this computer screen?                                                                                                                           |       15\n",
            " explication | in this picture                                                                                                                                                                                  |        7\n",
            " explication | on the left.                                                                                                                                                                                     |        9\n",
            "\n",
            " category   | question                                                  |   labels\n",
            "------------+-----------------------------------------------------------+----------\n",
            " color      | what color is this woman's top?                           |        0\n",
            " color      | what color is the sink?                                   |        0\n",
            " color      | what color is this polo shirt?                            |        0\n",
            " color      | what color is this ball of wool?                          |        0\n",
            " color      | what color are these sunglasses?                          |        0\n",
            " color      | what color                                                |        0\n",
            " color      | how many towels are on the shelf and what color are they? |       15\n",
            " color      | what color is this guy's hair?                            |        0\n",
            " color      | what color is this jacket?                                |        0\n",
            " color      | what color is my purse?                                   |        0\n",
            " color      | what color is this tie?                                   |        0\n",
            " color      | what color is this mat?                                   |        0\n",
            " color      | what colors are in the charm of this necklace?            |        0\n",
            " color      | what color is the bedspread?                              |        0\n",
            " color      | what color are you?                                       |        0\n",
            " color      | what color shoe am i wearing?                             |        0\n",
            " color      | could you please tell me what it is and what color is it? |        4\n",
            " color      | what color is this glass?                                 |        0\n",
            " color      | what color shirt is this that i have on?                  |        0\n",
            " color      | what color is the car across the street?                  |        0\n",
            "\n",
            " category   | question                                                    |   labels\n",
            "------------+-------------------------------------------------------------+----------\n",
            " choice     | is this a regular coke or a diet coke?                      |        5\n",
            " choice     | is this butter salted or unsalted?                          |        5\n",
            " choice     | is this some sort of cowgirl jewelry clothing or accessory? |        5\n",
            " choice     | are these pants grey or tan or  black?                      |       10\n",
            " choice     | is this a talking timer or a talking clock?                 |        5\n",
            " choice     | is this coke or pepsi?                                      |        5\n",
            " choice     | is this decaf coffee or regular coffee?                     |        5\n",
            " choice     | is the olive oil right or left?                             |       15\n",
            " choice     | is this caffeinated or decaffeinated?                       |        5\n",
            " choice     | is this shirt light gray or cream?                          |        5\n",
            " choice     | is this modern?                                             |        5\n",
            " choice     | are these regular chips or salt and vinegar chips?          |       10\n",
            " choice     | is this fire engine red or yellow                           |        5\n",
            " choice     | is this the women's bathroom or the men's bathroom?         |        5\n",
            " choice     | is this valium?                                             |        5\n",
            " choice     | is this iphone or nokia?                                    |        5\n",
            " choice     | is the finger pointing to black or white wire.              |       15\n",
            " choice     | is this pajamas?                                            |        5\n",
            " choice     | is my screen on or off?                                     |       10\n",
            " choice     | is this diet or regular pepsi?                              |        5\n",
            "\n",
            " category   | question                                                                                                       |   labels\n",
            "------------+----------------------------------------------------------------------------------------------------------------+----------\n",
            " yes_no     | is the word balm b-a-l-m, written on this usher container?                                                     |       13\n",
            " yes_no     | does anyone know what kind of tree this is?                                                                    |       13\n",
            " yes_no     | is this pickling spice?                                                                                        |       12\n",
            " yes_no     | can you see the model number of the bluetooth keyboard in the picture?                                         |       15\n",
            " yes_no     | do you see any text on the screen?                                                                             |       12\n",
            " yes_no     | just curious to see whether you could read what was on the computer screen just testing this application.      |       13\n",
            " yes_no     | is this love?                                                                                                  |        5\n",
            " yes_no     | am i still at the login screen and if i am how do i get to the user name bbm99756 using keyboard commands only |       15\n",
            " yes_no     | is my camera obscured?                                                                                         |       12\n",
            " yes_no     | is there anything on the screen now that is telling me to perform a specific task?                             |       13\n",
            " yes_no     | is this clam chowder?                                                                                          |       12\n",
            " yes_no     | can you sit on this fridge?                                                                                    |       13\n",
            " yes_no     | is this a machine?                                                                                             |       12\n",
            " yes_no     | is it morning yet                                                                                              |       12\n",
            " yes_no     | is the picture on this stocking?                                                                               |       12\n",
            " yes_no     | is this juice?                                                                                                 |       12\n",
            " yes_no     | is there a chess piece that is not on my chess board on this desk?                                             |       13\n",
            " yes_no     | can you read the words on my tv screen please?                                                                 |       12\n",
            " yes_no     | can you describe me the detail of the food in this packet?                                                     |       13\n",
            " yes_no     | do my sneakers match?                                                                                          |       12\n",
            "\n",
            " category    | question                                                                                                                                                       |   labels\n",
            "-------------+----------------------------------------------------------------------------------------------------------------------------------------------------------------+----------\n",
            " observation | what does my eye look like?                                                                                                                                    |        1\n",
            " observation | what kind of m                                                                                                                                                 |        8\n",
            " observation | what does it read?                                                                                                                                             |        1\n",
            " observation | what does the first line of this list say?                                                                                                                     |        1\n",
            " observation | what does this display say?                                                                                                                                    |        1\n",
            " observation | can you tell me what this is or says or i do not know, cannot tell.                                                                                            |       11\n",
            " observation | what does this screen say, please?                                                                                                                             |        1\n",
            " observation | what does this tshirt say?                                                                                                                                     |        1\n",
            " observation | what does this radio say?                                                                                                                                      |        1\n",
            " observation | what does this microwave say?                                                                                                                                  |        1\n",
            " observation | what does the scale say?                                                                                                                                       |        1\n",
            " observation | what does this menu say please?                                                                                                                                |        1\n",
            " observation | what does it say on the sticker, on the back of the computer?                                                                                                  |       15\n",
            " observation | what does the restaurant bill say?                                                                                                                             |        1\n",
            " observation | what does this piece of paper say?                                                                                                                             |        1\n",
            " observation | what does the first word of this say?                                                                                                                          |        1\n",
            " observation | does this say it is for cats or dogs?                                                                                                                          |        7\n",
            " observation | what does this t-shirt say?                                                                                                                                    |        1\n",
            " observation | can you tell me if this says any brand name or anything on it any ingredients basically what does this have on it picture and saying words something like that |        1\n",
            " observation | does this box say breakfast blend or donut shop?                                                                                                               |        7\n",
            "\n"
          ]
        }
      ]
    },
    {
      "cell_type": "markdown",
      "metadata": {
        "id": "ELJ8T9rlRcLY"
      },
      "source": [
        "### M1: Logistic Regression + embedding from bert-base-uncased model"
      ]
    },
    {
      "cell_type": "markdown",
      "metadata": {
        "id": "bdADtrIvRcLc"
      },
      "source": [
        "#### Train"
      ]
    },
    {
      "cell_type": "code",
      "metadata": {
        "colab": {
          "base_uri": "https://localhost:8080/",
          "height": 526
        },
        "id": "VVpcCWvzRcLg",
        "outputId": "23fe14ba-4c2f-49e5-ce60-e6c3298758ce"
      },
      "source": [
        "# Asign categories to salient clusters\n",
        "clusters = pd.read_pickle(CLUSTERING_DFS_FOLDER+\"opc2:lemas:17:1_10grama:bert-base-uncased_embeddings.pkl\")\n",
        "\n",
        "# Get the top question of each salient cluster, and assign the according categories\n",
        "data = assignCategories(clusters, take_top_qs=90)\n",
        "\n",
        "# Train\n",
        "model = trainLogRegessionModel(data,save=False)\n",
        "\n",
        "# Save model\n",
        "save_model = False\n",
        "if save_model:\n",
        "    saveClassifierModel(classifier_model=model, \n",
        "                        embedding_model=SentenceTransformer('bert-base-uncased'), \n",
        "                        filename=\"classifier_model:LRegression:bert-base-uncased:v2\")"
      ],
      "execution_count": null,
      "outputs": [
        {
          "output_type": "stream",
          "name": "stdout",
          "text": [
            "Train samples: 574, Test samples: 144\n",
            "Train Accuracy: 1.000000\n",
            "Test Accuracy: 0.951389\n"
          ]
        },
        {
          "output_type": "display_data",
          "data": {
            "image/png": "[encoded data removed]",
            "text/plain": [
              "<Figure size 576x576 with 2 Axes>"
            ]
          },
          "metadata": {
            "needs_background": "light"
          }
        }
      ]
    },
    {
      "cell_type": "markdown",
      "metadata": {
        "id": "T6oK8f04RcLk"
      },
      "source": [
        "#### Test Results"
      ]
    },
    {
      "cell_type": "code",
      "metadata": {
        "colab": {
          "base_uri": "https://localhost:8080/",
          "height": 341
        },
        "id": "Biz749W4RcLn",
        "outputId": "5f369480-5438-4e58-ce6c-9cb170eeb8dc"
      },
      "source": [
        "# Predict all questions categories from cluster dataframe\n",
        "predict = predictClustersCategories(model, clusters, n_samples=None)\n",
        "plotCategoriesDist(predict)"
      ],
      "execution_count": null,
      "outputs": [
        {
          "output_type": "display_data",
          "data": {
            "image/png": "[encoded data removed]",
            "text/plain": [
              "<Figure size 432x288 with 1 Axes>"
            ]
          },
          "metadata": {
            "needs_background": "light"
          }
        }
      ]
    },
    {
      "cell_type": "markdown",
      "metadata": {
        "id": "yI4H0nkWRcLp"
      },
      "source": [
        "###### Random samples"
      ]
    },
    {
      "cell_type": "code",
      "metadata": {
        "colab": {
          "base_uri": "https://localhost:8080/"
        },
        "id": "epi1VfTnRcLr",
        "outputId": "25848369-54b4-439d-8477-5b8fb18e5266"
      },
      "source": [
        "printDf(predictClustersCategories(model, clusters, n_samples=30))"
      ],
      "execution_count": null,
      "outputs": [
        {
          "output_type": "stream",
          "name": "stdout",
          "text": [
            "   labels | category    | question\n",
            "----------+-------------+--------------------------------------------------------------------------------------------------------------------------------------------------------------\n",
            "        0 | color       | what color is this product?\n",
            "        3 | rel_ident   | what is the writing on this box.\n",
            "        1 | observation | what does this dialog box say?\n",
            "        5 | yes_no      | is this card readable now?\n",
            "        7 | rel_ident   | what is in this jar according to the label shown?\n",
            "        8 | ident       | what kind of water is this?\n",
            "        0 | color       | what color has there?\n",
            "        1 | observation | what does this windows xp error say?\n",
            "       16 | ocr         | what is the frequency?\n",
            "        7 | explication | screen showing.\n",
            "        9 | explication | can you please read this menu to me.\n",
            "       14 | rel_ident   | please tell me what is in this box\n",
            "       16 | rel_ident   | what is in this can please?\n",
            "       14 | rel_ident   | what is on the screen?\n",
            "        3 | ocr         | what is the expiry date on this cream?\n",
            "        3 | ocr         | what is the label of this din?\n",
            "       12 | yes_no      | is this garlic?\n",
            "       10 | choice      | is that soap or lotion?\n",
            "        7 | rel_ident   | what type of medicine is in this bottle?\n",
            "       15 | explication | okay let us try this look at my screen if you well and tell me what is the display there will probably be an error message but let me know thanks very much.\n"
          ]
        }
      ]
    },
    {
      "cell_type": "markdown",
      "metadata": {
        "id": "pTubHaP3RcLt"
      },
      "source": [
        "###### Random samples by category name"
      ]
    },
    {
      "cell_type": "code",
      "metadata": {
        "colab": {
          "base_uri": "https://localhost:8080/"
        },
        "id": "Ipk2GINmRcLu",
        "outputId": "d715bb1e-290a-45f8-adbf-ca46b12e76d7"
      },
      "source": [
        "for name in predict.category.unique():\n",
        "    printDf(predictClustersCategories(model, clusters, n_samples=20, category=name))\n",
        "    print(\"\")"
      ],
      "execution_count": null,
      "outputs": [
        {
          "output_type": "stream",
          "name": "stdout",
          "text": [
            "   labels | category   | question\n",
            "----------+------------+-------------------------------------------------------------------------\n",
            "        3 | ocr        | what is the redemption code of this card?\n",
            "        3 | ocr        | what is the name of this please?\n",
            "        3 | ocr        | what is the denominator of this bill?\n",
            "        3 | ocr        | what is the thermostat setting for the air conditioning on this device?\n",
            "        3 | ocr        | what is the picture on this map?\n",
            "        3 | ocr        | what are the labels of the buttons in this row?\n",
            "        3 | ocr        | what is the color of the cap of this bottle?\n",
            "        3 | ocr        | what is the isbn for this book?\n",
            "        3 | ocr        | what is the name of this audio book and the actual number of the disc?\n",
            "       16 | ocr        | what is the name of the cd?\n",
            "        3 | ocr        | what is the name of the flower?\n",
            "        3 | ocr        | what is the temperature on the display set to?\n",
            "       16 | ocr        | what is the temperature on the thermostat?\n",
            "       16 | ocr        | what is the measure of angle mar?\n",
            "       11 | ocr        | what temperature is the thermostat set to?\n",
            "        3 | ocr        | what is the card number on the starbucks card?\n",
            "        3 | ocr        | what is the name or title of this book\n",
            "        3 | ocr        | what is the name of the story?\n",
            "        3 | ocr        | what is the emblem on the shirt?\n",
            "       16 | ocr        | what is the expiration date on this item?\n",
            "\n",
            "   labels | category   | question\n",
            "----------+------------+------------------------------------------------------------------------------\n",
            "        8 | rel_ident  | what kind of pop is in this can?\n",
            "       16 | rel_ident  | what are you...\n",
            "       14 | rel_ident  | what is laying on this table?\n",
            "       14 | rel_ident  | what is a picture?\n",
            "        7 | rel_ident  | what is that bell?\n",
            "       14 | rel_ident  | what is in this box, thank you.\n",
            "        8 | rel_ident  | what kind of spaghetti sauce is in the jar?\n",
            "        4 | rel_ident  | how many milligrams are each tablet in this bottle?\n",
            "        2 | rel_ident  | what is this image?\n",
            "       14 | rel_ident  | what is on top of the coffee table?\n",
            "        7 | rel_ident  | describe what is on the front of my shirt.\n",
            "       11 | rel_ident  | what note is it?\n",
            "       16 | rel_ident  | what is in the package?\n",
            "        7 | rel_ident  | can you please tell me what this can says so i can figure out what is in it?\n",
            "       14 | rel_ident  | what was in the bag?\n",
            "       14 | rel_ident  | >what is it?\n",
            "       14 | rel_ident  | can you see what is in this packet?\n",
            "       14 | rel_ident  | what is on this bottle.\n",
            "        7 | rel_ident  | what is in this can, please?\n",
            "        2 | rel_ident  | what is this and what is it used for?\n",
            "\n",
            "   labels | category    | question\n",
            "----------+-------------+-------------------------------------------------------\n",
            "        4 | explication | what day is it?\n",
            "        9 | explication | sparks contain\n",
            "       15 | explication | please find the number of chairs in the hoarding cup.\n",
            "        6 | explication | which can is this?\n",
            "        8 | explication | can you tell me what kind of coffeemate this is?\n",
            "        9 | explication | this picture\n",
            "        7 | explication | how much this?\n",
            "        7 | explication | what brand headphones or earbuds are these?\n",
            "       12 | explication | looks like we could have a stormy sky.\n",
            "        7 | explication | can you read the text on this, please?\n",
            "       13 | explication | can you see the deal?\n",
            "        9 | explication | hello hello hello.\n",
            "        9 | explication | please read this label on the bottle.\n",
            "       15 | explication | how many color connectors on the back of that device\n",
            "        4 | explication | what model is this radio and what year was it used?\n",
            "        4 | explication | how much is this monitor?\n",
            "        3 | explication | what is the picture on the wall of\n",
            "        9 | explication | please name this plant.\n",
            "        9 | explication | when does this nose spray expire?\n",
            "        9 | explication | about this one, thank you.\n",
            "\n",
            "   labels | category   | question\n",
            "----------+------------+-------------------------------------\n",
            "       11 | ident      | what button is mountain dew?\n",
            "        8 | ident      | what kind of a edict?\n",
            "       14 | ident      | what is my temperature?\n",
            "        2 | ident      | what is this candle?\n",
            "        8 | ident      | what kind of sausage is this?\n",
            "        8 | ident      | what kind of candy is this, please?\n",
            "        2 | ident      | what is this drink?\n",
            "       11 | ident      | what this is?\n",
            "        7 | ident      | what brand of perfume is this?\n",
            "        2 | ident      | what is this poster of\n",
            "        4 | ident      | which harry potter book is this?\n",
            "        6 | ident      | what type of of pan is this?\n",
            "        7 | ident      | what medication is this?\n",
            "        8 | ident      | what kind of suit make is this?\n",
            "        6 | ident      | what scent, what fragrance is this?\n",
            "        6 | ident      | which drink is this?\n",
            "        9 | ident      | what sandwiches do they have?\n",
            "        2 | ident      | what is this kane?\n",
            "       14 | ident      | what are scissors?\n",
            "        2 | ident      | what is this medicine, please?\n",
            "\n",
            "   labels | category   | question\n",
            "----------+------------+----------------------------------------------------------------------------------------------------------------\n",
            "        3 | color      | what is the color of this shirt?\n",
            "        0 | color      | what color is these jeans please?\n",
            "        0 | color      | what color is his shirt\n",
            "        6 | color      | what colour is this?\n",
            "        0 | color      | what color is the paint on this wall?\n",
            "        0 | color      | what color is the rope?\n",
            "        0 | color      | what color is the blouse?\n",
            "        0 | color      | what color, what color is the mug?\n",
            "        0 | color      | what color is this pant?\n",
            "        0 | color      | what color is this cardigan?\n",
            "        0 | color      | what color shirt was that?\n",
            "        0 | color      | what color is the keyboard?\n",
            "        0 | color      | what color is the shirt that i am holding?\n",
            "       15 | color      | from top to bottom, which is the color of the bill?\n",
            "        3 | color      | what is the color of this glasses?\n",
            "        9 | color      | which of these are my gray pants?\n",
            "        0 | color      | what color does this wine have?\n",
            "        7 | color      | what color are the pin stripes of these pants and would they go well with this shirt i just took a picture of?\n",
            "        0 | color      | what color is this bedsheet?\n",
            "        0 | color      | what color was my shirt?\n",
            "\n",
            "   labels | category   | question\n",
            "----------+------------+---------------------------------------------------------------------------------------------------------------------------------------------------------------------------------\n",
            "       12 | yes_no     | is there a label on this multi-purpose sprayer?\n",
            "       15 | yes_no     | can you please give me as much as possible as what you see on my computer screen, whether it is a windows log on or a blue screen of death or anything at all because i have a.\n",
            "       11 | yes_no     | can you tell what size cup this is?\n",
            "       12 | yes_no     | is this a atari 2600 game?\n",
            "        5 | yes_no     | is this decaf?\n",
            "       13 | yes_no     | can you see the expiration date?\n",
            "        5 | yes_no     | is this the blu-ray?\n",
            "       13 | yes_no     | is the door open?\n",
            "        7 | yes_no     | is that a radio?\n",
            "        7 | yes_no     | can you read the brand, dosage information, or any other things about this bottle?\n",
            "        4 | yes_no     | is this strength the five?\n",
            "        9 | yes_no     | is there any msg in that?\n",
            "        6 | yes_no     | coffee is this.\n",
            "        9 | yes_no     | how many coffees am i allowed to drink per day?\n",
            "        9 | yes_no     | is it not?\n",
            "       13 | yes_no     | this is cola?\n",
            "       13 | yes_no     | is it the books?\n",
            "       13 | yes_no     | is this the front side of the paper?\n",
            "       11 | yes_no     | can you tell what size and color this is?\n",
            "        4 | yes_no     | this is a test\n",
            "\n",
            "   labels | category    | question\n",
            "----------+-------------+-------------------------------------------------------------------------\n",
            "       15 | observation | can you see the writing on the bottle and if so what does it say\n",
            "        1 | observation | what does this dialogue box say and can you tell what is highlighted?\n",
            "        1 | observation | what does the writing on this say?\n",
            "       13 | observation | does it say anything on this side of the note?\n",
            "        1 | observation | what does this say, what does this say\n",
            "        1 | observation | what do the big gray clouds look like in the sky?\n",
            "        1 | observation | what does this phone bill show?\n",
            "        1 | observation | what does it say on the bottle?\n",
            "        1 | observation | what does that say?\n",
            "        2 | observation | what is this screen saying?\n",
            "        9 | observation | does the screen say?\n",
            "       12 | observation | do these pants go with this shirt?\n",
            "        1 | observation | what does this screen saying?\n",
            "       16 | observation | i know it says the ten commandments, but what are the ten commandments?\n",
            "        1 | observation | what does this business card say?\n",
            "        7 | observation | what is it say on the label?\n",
            "        1 | observation | what does the label on this jar say?\n",
            "        1 | observation | what does the tag say?\n",
            "        1 | observation | what does this say on this screen?\n",
            "        7 | observation | does this say\n",
            "\n",
            "   labels | category   | question\n",
            "----------+------------+--------------------------------------------------------------------------------------------------------------------------\n",
            "        5 | choice     | is this pregnancy test positive or negative?\n",
            "        4 | choice     | is this say?\n",
            "        4 | choice     | is it a normal beer, or is it a special taste?\n",
            "       12 | choice     | is this bottle?\n",
            "       10 | choice     | mild or hot sauce?\n",
            "        5 | choice     | is this inhaler blue or yellow?\n",
            "        4 | choice     | are there any interim stages of cooking, like, turning or shaking or anything like that?\n",
            "        5 | choice     | is this dayquil or nightquil?\n",
            "       10 | choice     | is it hot, warm or cold?\n",
            "       12 | choice     | still looking at same trousers but my question is now will this different color polo shirt still go with these trousers?\n",
            "        5 | choice     | is this red or white liquid?\n",
            "        8 | choice     | can you please tell me what kind of coffee or tea this is?\n",
            "        5 | choice     | is this a skillet or mixed vegetables?\n",
            "       10 | choice     | which marie callander's dish is this, chicken or meat loaf?\n",
            "       10 | choice     | is there shower gel or body lotion?\n",
            "       10 | choice     | can you tell me whether this is body lotion or shower gel?\n",
            "       10 | choice     | are these red and green starlight mints or spearmint starlight mints?\n",
            "        5 | choice     | is this blue or purple?\n",
            "        4 | choice     | is this cream of chicken soup?\n",
            "       10 | choice     | can you tell me whether this says it is dark chocolate or milk chocolate?\n",
            "\n"
          ]
        }
      ]
    },
    {
      "cell_type": "markdown",
      "metadata": {
        "id": "s2WTD1GuRcRG"
      },
      "source": [
        "### M2: SVC + embedding from bert-base-uncased model"
      ]
    },
    {
      "cell_type": "markdown",
      "metadata": {
        "id": "sC5C5bKlRcRI"
      },
      "source": [
        "#### Train"
      ]
    },
    {
      "cell_type": "code",
      "metadata": {
        "colab": {
          "base_uri": "https://localhost:8080/",
          "height": 530
        },
        "id": "tqGTNwpPRcRL",
        "outputId": "edaf6f30-5fb1-41f3-91cd-97234a3bb83c"
      },
      "source": [
        "# Asign categories to salient clusters\n",
        "clusters = pd.read_pickle(CLUSTERING_DFS_FOLDER+\"opc2:lemas:17:1_10grama:bert-base-uncased_embeddings.pkl\")\n",
        "\n",
        "# Get the top question of each salient cluster, and assign the according categories\n",
        "data = assignCategories(clusters, take_top_qs=80)\n",
        "\n",
        "# Train\n",
        "model = trainSvcModel(data,save=False)\n",
        "\n",
        "# Save model\n",
        "save_model = False\n",
        "if save_model:\n",
        "    saveClassifierModel(classifier_model=model, \n",
        "                        embedding_model=SentenceTransformer('bert-base-uncased'), \n",
        "                        filename=\"classifier_model:Svm:bert-base-uncased:v2\")"
      ],
      "execution_count": null,
      "outputs": [
        {
          "output_type": "stream",
          "name": "stdout",
          "text": [
            "Train samples: 510, Test samples: 128\n",
            "Train Accuracy: 1.000000\n",
            "Test Accuracy: 0.984375\n"
          ]
        },
        {
          "output_type": "display_data",
          "data": {
            "image/png": "[encoded data removed]",
            "text/plain": [
              "<Figure size 576x576 with 2 Axes>"
            ]
          },
          "metadata": {
            "needs_background": "light"
          }
        }
      ]
    },
    {
      "cell_type": "markdown",
      "metadata": {
        "id": "krc5TLR2RcRM"
      },
      "source": [
        "#### Test Results"
      ]
    },
    {
      "cell_type": "code",
      "metadata": {
        "colab": {
          "base_uri": "https://localhost:8080/",
          "height": 341
        },
        "id": "22KetnALRcRN",
        "outputId": "9cb28614-772b-4f31-ed73-61fcaa4cd325"
      },
      "source": [
        "# Predict all questions categories from cluster dataframe\n",
        "predict = predictClustersCategories(model, clusters, n_samples=None)\n",
        "plotCategoriesDist(predict)"
      ],
      "execution_count": null,
      "outputs": [
        {
          "output_type": "display_data",
          "data": {
            "image/png": "[encoded data removed]",
            "text/plain": [
              "<Figure size 432x288 with 1 Axes>"
            ]
          },
          "metadata": {
            "needs_background": "light"
          }
        }
      ]
    },
    {
      "cell_type": "markdown",
      "metadata": {
        "id": "mBCAMFUHRcRO"
      },
      "source": [
        "###### Random samples"
      ]
    },
    {
      "cell_type": "code",
      "metadata": {
        "colab": {
          "base_uri": "https://localhost:8080/"
        },
        "id": "qXLj0_tSRcRP",
        "outputId": "9bc23c53-6bf4-4cab-c9d4-c1b5bcb3fb49"
      },
      "source": [
        "printDf(predictClustersCategories(model, clusters, n_samples=30))"
      ],
      "execution_count": null,
      "outputs": [
        {
          "output_type": "stream",
          "name": "stdout",
          "text": [
            "   labels | category    | question\n",
            "----------+-------------+------------------------------------------------------------------------------------------------\n",
            "       15 | explication | this is the display of the treadmill, can you tell me the distance off the top display please?\n",
            "       15 | explication | how well did i capture the kitty in the picture?\n",
            "        8 | ident       | what kind of jimmy deans breakfast sandwiches are these?\n",
            "       16 | ocr         | what temperature is the oven set to?\n",
            "        0 | color       | what color is the pillow?\n",
            "        6 | ident       | what make of car is this?\n",
            "        3 | ocr         | what is the label on this jar?\n",
            "        4 | explication | can you tell which phone number this is if possible please?\n",
            "        4 | explication | how many calories are in this bottle?\n",
            "        0 | color       | what color is the blanket in the picture?\n",
            "        9 | color       | please describe the colors in this pair of socks.\n",
            "        4 | explication | what temperature displayed on this thermostat?\n",
            "        9 | explication | hello, well i hope you can read this picture, now see if it stops it.\n",
            "       14 | rel_ident   | this can is laying inside of the bowl, what is in this can?\n",
            "       16 | ocr         | what is the expiration on this mayonnaise please?\n",
            "       15 | explication | the sky like in this picture?\n",
            "        0 | observation | what color is this shirt, and what does it say?\n",
            "        1 | observation | hey, what does this card say?\n",
            "        8 | ident       | what kind of toothpaste is this?\n",
            "        4 | observation | what does walker consider to be her mother's major means of artistic expression?\n"
          ]
        }
      ]
    },
    {
      "cell_type": "markdown",
      "metadata": {
        "id": "jrnlPqmyRcRQ"
      },
      "source": [
        "###### Random samples by category name"
      ]
    },
    {
      "cell_type": "code",
      "metadata": {
        "colab": {
          "base_uri": "https://localhost:8080/"
        },
        "id": "CPqJvSHlRcRR",
        "outputId": "1df2db22-5684-48fb-bdf3-d8f17c853c5b"
      },
      "source": [
        "for name in predict.category.unique():\n",
        "    printDf(predictClustersCategories(model, clusters, n_samples=20, category=name))\n",
        "    print(\"\")"
      ],
      "execution_count": null,
      "outputs": [
        {
          "output_type": "stream",
          "name": "stdout",
          "text": [
            "   labels | category   | question\n",
            "----------+------------+-------------------------------------------------------------------------------------------\n",
            "        3 | ocr        | what is the contents of this can please?\n",
            "       16 | ocr        | what is the taste of the pack?\n",
            "        3 | ocr        | what is the ounces on this box of tamales?\n",
            "        3 | ocr        | what is the brand name on the bottle?\n",
            "       16 | ocr        | what is the number on the back of this card?\n",
            "        3 | ocr        | what is the oven temperatures setting?\n",
            "        3 | ocr        | what is the name, brand name, and flavor of this?\n",
            "        3 | ocr        | what is the temperature showing on the control\n",
            "        3 | ocr        | what is the flavor of this cat food, please?\n",
            "        3 | ocr        | what is the answer to the math problem?\n",
            "       16 | ocr        | what is the figure you see on the shirt\n",
            "        3 | ocr        | alright what is the expiration on this carton of milk?\n",
            "        3 | ocr        | what are the settings on the dial?\n",
            "        3 | ocr        | what is the temperature on this oven, which is a number like in orange next to the clock?\n",
            "        3 | ocr        | what is the brand?\n",
            "       14 | ocr        | what is our school mascot?\n",
            "        3 | ocr        | what are the contents of this thing?\n",
            "       16 | ocr        | what is the address here?\n",
            "        3 | ocr        | what is the name of this body spray?\n",
            "        3 | ocr        | what is the name on these two cds?\n",
            "\n",
            "   labels | category   | question\n",
            "----------+------------+------------------------------------------------------------------------------------------------------------\n",
            "        7 | rel_ident  | what is going on on the screen?\n",
            "       15 | rel_ident  | this is a shortwave radio and i need to know the frequency on this radio, so what is the number shown?\n",
            "       11 | rel_ident  | please, can you tell me what this item is?\n",
            "        7 | rel_ident  | is there a picture on the back and if so what is it, or words?\n",
            "       11 | rel_ident  | could you please tell me what this bottle is of?\n",
            "       13 | rel_ident  | any idea what is on the sofa supposed to be?\n",
            "       16 | rel_ident  | can you tell me what is on the screen now, if anything's changed?\n",
            "       14 | rel_ident  | what is that bill?\n",
            "       16 | rel_ident  | what is assisting?\n",
            "        4 | rel_ident  | can you tell me what this file says?\n",
            "       14 | rel_ident  | please tell me what is in each container from left to right.\n",
            "       16 | rel_ident  | what is it?\n",
            "       14 | rel_ident  | can someone tell me what is in this package please?\n",
            "       14 | rel_ident  | what is on the coffee table?\n",
            "       14 | rel_ident  | what is that hanging on the mirror?\n",
            "       10 | rel_ident  | can you describe what that looks like?\n",
            "       15 | rel_ident  | okay, trying to set up the new tv, just looking to see if you can tell me what is on the screen right now.\n",
            "       14 | rel_ident  | what is that in the wall?\n",
            "       14 | rel_ident  | what is inside this canned good?\n",
            "       14 | rel_ident  | what is a product?\n",
            "\n",
            "   labels | category   | question\n",
            "----------+------------+-------------------------------------------------------------------------\n",
            "        6 | ident      | what type of jar is this?\n",
            "       10 | ident      | i hope i have this thing in the right direction, but what is this item?\n",
            "        6 | ident      | what kind is this?\n",
            "        8 | ident      | what kind of sauce is this?\n",
            "        6 | ident      | what mineral is this?\n",
            "        8 | ident      | what kind of tequila is this\n",
            "        7 | ident      | which flavor is this?\n",
            "        8 | ident      | what kind of cigar is this?does this vibrate?i do not know.\n",
            "        2 | ident      | what is this identification card?\n",
            "       11 | ident      | can you tell me what these sweets are please?\n",
            "        8 | ident      | record could you tell me what kind of meat this is please\n",
            "        6 | ident      | what species of mushroom is this?\n",
            "        2 | ident      | what is this button?\n",
            "        8 | ident      | what kind of strings is these, thanks!\n",
            "        8 | ident      | what kind of flowers are these?\n",
            "        4 | ident      | what brand and variety are these chips?\n",
            "        7 | ident      | what, what is this?\n",
            "        6 | ident      | what food is this?\n",
            "        2 | ident      | what is this product, please?\n",
            "        6 | ident      | what spice is this?\n",
            "\n",
            "   labels | category    | question\n",
            "----------+-------------+--------------------------------------------------------------\n",
            "        7 | explication | how number?\n",
            "        9 | explication | trying this again.\n",
            "        7 | explication | what effect of the protein diet was being listed?\n",
            "       12 | explication | can you describe this picture?\n",
            "        9 | explication | where are my pants?\n",
            "       11 | explication | from left to right, what are these buttons labeled?\n",
            "        9 | explication | you guys questions about assistive technologies to feed my q\n",
            "       13 | explication | can you tell me what this says on the tag please?\n",
            "        4 | explication | how many miles are on this car?\n",
            "        9 | explication | can you identify the boy now?\n",
            "       10 | explication | describe this picture into monitor.\n",
            "        9 | explication | thank you for your help.\n",
            "        6 | explication | which remote is this?\n",
            "       15 | explication | the title of this book please, thank you.\n",
            "       15 | explication | can you tell me the 1-800 number off of this card?\n",
            "        3 | explication | what is the eleven digit number at the bottom?\n",
            "        4 | explication | what frequency is my stereo radio tuned to?\n",
            "        9 | explication | slaver and his sausages.\n",
            "        4 | explication | what motive is on this t-shirt?\n",
            "       10 | explication | which one is dvd?\n",
            "\n",
            "   labels | category   | question\n",
            "----------+------------+----------------------------------------------------------------------------------------------------------------\n",
            "        9 | color      | tell me about color.\n",
            "        0 | color      | what color is the bear's shirt?\n",
            "        0 | color      | what color is the chair?\n",
            "        0 | color      | what color is this (inaudible) please?\n",
            "       11 | color      | can you please tell me what stripes are on this shirt?\n",
            "        0 | color      | what color and pattern are these shorts?\n",
            "       10 | color      | whar color is this shirt?\n",
            "       11 | color      | what is this and what color is it and what time is it because i was sleeping and i do not know what time it is\n",
            "        5 | color      | is this a dusty rose pink or what shade of pink is it?\n",
            "        0 | color      | what color is my hair?\n",
            "        0 | color      | what color do these look?\n",
            "        0 | color      | what color are the cabinets?\n",
            "        3 | color      | what are the colors on this garment?\n",
            "        0 | color      | what color is the water bottle?\n",
            "        7 | color      | what is that and what color is it\n",
            "        3 | color      | what is the color of the table cloth?\n",
            "       15 | color      | if you can see the shirt, what color is it?\n",
            "        0 | color      | what color is this tie?\n",
            "        0 | color      | what color is the nightstand?\n",
            "        0 | color      | what color is the dryer and what time is it?\n",
            "\n",
            "   labels | category    | question\n",
            "----------+-------------+---------------------------------------------------------------------------\n",
            "        1 | observation | what does it say on the envelope?\n",
            "        1 | observation | what does the p mean on the cup?\n",
            "        1 | observation | well, what do you see?\n",
            "        1 | observation | what does it say on the computer screen?\n",
            "        1 | observation | what does this maple say?\n",
            "       13 | observation | does it happen to say if it is homestyle?\n",
            "        1 | observation | for as far as you can see what does this say?\n",
            "        1 | observation | what does the error message say on the printer?\n",
            "        1 | observation | what did the over dial say?\n",
            "       11 | observation | what temperature does it look like?\n",
            "        0 | observation | what color is this shirt and does it have any writing on the front side?\n",
            "        1 | observation | what does this milk say?\n",
            "        1 | observation | what does this say and look like?\n",
            "       15 | observation | how does the sky look?\n",
            "        4 | observation | if the card is shown in this picture, what does it say?\n",
            "       15 | observation | can you tell me what it says on the breast of this collared shirt please?\n",
            "       16 | observation | what is the picture on this shirt and what does it say below it?\n",
            "       11 | observation | what flavors does pam come in?\n",
            "        1 | observation | what does this guy look like in this photo?\n",
            "        1 | observation | what do you see\n",
            "\n",
            "   labels | category   | question\n",
            "----------+------------+---------------------------------------------------------------------------\n",
            "       12 | yes_no     | is there a picture on this blanket?\n",
            "       12 | yes_no     | is this an apple product?\n",
            "        9 | yes_no     | did that help any?\n",
            "       11 | yes_no     | please tell me what this washer is set to?\n",
            "       15 | yes_no     | can you tell me the color of the screen or if there is any writing on it?\n",
            "        6 | yes_no     | kind of dog is this.\n",
            "       12 | yes_no     | are there sunglasses on the table?\n",
            "       10 | yes_no     | is on this shirt.\n",
            "       12 | yes_no     | is this the shampoo?\n",
            "       13 | yes_no     | is the dialogue more visible in that picture?\n",
            "        5 | yes_no     | is this an indian santa figure?\n",
            "       12 | yes_no     | i suspect this is a pizza box is that correct?\n",
            "       13 | yes_no     | is sony capital letters in the text?\n",
            "        7 | yes_no     | hello, can you tell me what the label is on this, please?\n",
            "       12 | yes_no     | is there any text readable on this screen?\n",
            "       13 | yes_no     | could it possibly be fish?\n",
            "        9 | yes_no     | we can tell o\n",
            "        2 | yes_no     | what is this can in my left?\n",
            "       11 | yes_no     | can you tell what dinner this is?\n",
            "        9 | yes_no     | franklin considered moral perfection to be an?\n",
            "\n",
            "   labels | category   | question\n",
            "----------+------------+--------------------------------------------------------------------------------------------\n",
            "        2 | choice     | what ? is this?\n",
            "        5 | choice     | is this tide high efficiency or low efficiency?\n",
            "       10 | choice     | is that snickers or mars?\n",
            "        5 | choice     | is this shampoo or hand lotion?\n",
            "        9 | choice     | is either of these rings, kyles?\n",
            "        5 | choice     | is this regular or decaffeinated coffee?\n",
            "        5 | choice     | is this course or fine seasalt?\n",
            "        5 | choice     | is this a six or a two?\n",
            "       12 | choice     | can this sweater work with business attire as well as with a more casual outfit?\n",
            "        5 | choice     | is this air conditioner on fan, air or dehumidifier?\n",
            "        5 | choice     | is this product?\n",
            "        5 | choice     | is this light on or off?\n",
            "        5 | choice     | is this shirt light gray or cream?\n",
            "       10 | choice     | i am wondering what can this product this product this can product is?\n",
            "        5 | choice     | is this like on or off?\n",
            "        5 | choice     | is this regular mountain dew or diet?\n",
            "        5 | choice     | i am really not good at this but is this my melatonin bottle or is this my vicodin bottle?\n",
            "        5 | choice     | is this stale or sparkling water?\n",
            "        4 | choice     | is this ibuprofen or tylenol?\n",
            "        5 | choice     | is this my holiday peanuts or my regular peanuts?\n",
            "\n"
          ]
        }
      ]
    },
    {
      "cell_type": "markdown",
      "metadata": {
        "id": "7JvPkbFoGItA"
      },
      "source": [
        "### M3: Logistic Regression + embedding from all-MiniLM-L6-v2 model"
      ]
    },
    {
      "cell_type": "markdown",
      "metadata": {
        "id": "VTEAASrPGItD"
      },
      "source": [
        "#### Train"
      ]
    },
    {
      "cell_type": "code",
      "metadata": {
        "colab": {
          "base_uri": "https://localhost:8080/",
          "height": 530
        },
        "id": "vnCTM-qUGItH",
        "outputId": "79e7572f-6fcc-459e-9fdd-4a79f977208d"
      },
      "source": [
        "# Asign categories to salient clusters\n",
        "clusters = pd.read_pickle(CLUSTERING_DFS_FOLDER+\"opc2:lemas:17:1_10grama:all-MiniLM-L6-v2_embeddings.pkl\")\n",
        "\n",
        "# Get the top question of each salient cluster, and assign the according categories\n",
        "data = assignCategories(clusters, take_top_qs=90)\n",
        "\n",
        "# Train\n",
        "model = trainLogRegessionModel(data,save=False)\n",
        "\n",
        "# Save model\n",
        "save_model = False\n",
        "if save_model:\n",
        "    saveClassifierModel(classifier_model=model, \n",
        "                        embedding_model=SentenceTransformer('all-MiniLM-L6-v2'),\n",
        "                        filename=\"classifier_model:LRegression:all-MiniLM-L6-v2:v2\")"
      ],
      "execution_count": null,
      "outputs": [
        {
          "output_type": "stream",
          "name": "stdout",
          "text": [
            "Train samples: 574, Test samples: 144\n",
            "Train Accuracy: 0.926829\n",
            "Test Accuracy: 0.909722\n"
          ]
        },
        {
          "output_type": "display_data",
          "data": {
            "image/png": "[encoded data removed]",
            "text/plain": [
              "<Figure size 576x576 with 2 Axes>"
            ]
          },
          "metadata": {
            "needs_background": "light"
          }
        }
      ]
    },
    {
      "cell_type": "markdown",
      "metadata": {
        "id": "ImMK12wOGItM"
      },
      "source": [
        "#### Test Results"
      ]
    },
    {
      "cell_type": "code",
      "metadata": {
        "colab": {
          "base_uri": "https://localhost:8080/",
          "height": 341
        },
        "id": "OzhWxniYGItP",
        "outputId": "4bdc6101-77e7-4b68-d31d-8aac90aea2e6"
      },
      "source": [
        "# Predict all questions categories from cluster dataframe\n",
        "predict = predictClustersCategories(model, clusters, n_samples=None)\n",
        "plotCategoriesDist(predict)"
      ],
      "execution_count": null,
      "outputs": [
        {
          "output_type": "display_data",
          "data": {
            "image/png": "[encoded data removed]",
            "text/plain": [
              "<Figure size 432x288 with 1 Axes>"
            ]
          },
          "metadata": {
            "needs_background": "light"
          }
        }
      ]
    },
    {
      "cell_type": "markdown",
      "metadata": {
        "id": "NBWHCHwDGItS"
      },
      "source": [
        "###### Random samples"
      ]
    },
    {
      "cell_type": "code",
      "metadata": {
        "colab": {
          "base_uri": "https://localhost:8080/"
        },
        "id": "oSwv0pqCGItT",
        "outputId": "0940873f-1c13-406c-f56a-88f84c444688"
      },
      "source": [
        "printDf(predictClustersCategories(model, clusters, n_samples=30))"
      ],
      "execution_count": null,
      "outputs": [
        {
          "output_type": "stream",
          "name": "stdout",
          "text": [
            "   labels | category    | question\n",
            "----------+-------------+----------------------------------------------------------------------------------------------\n",
            "        5 | choice      | is this white or black pepper?\n",
            "        8 | ident       | what kind of shoe is this?\n",
            "        8 | ident       | can you tell what kind of tea this is?\n",
            "        1 | observation | what does this can say?\n",
            "       15 | ocr         | can you tell me the name of the audio cd.\n",
            "        2 | observation | last time, what is this say?\n",
            "        6 | ident       | what type of can is this?\n",
            "       15 | explication | what letters do i enter to win the prize?\n",
            "        3 | observation | what is the captcha code on this image?\n",
            "        4 | color       | if there is a phone in this picture can you tell what color it is?\n",
            "        0 | color       | what color is this pair of pants?\n",
            "       12 | yes_no      | is this corn as well?\n",
            "        2 | rel_ident   | what is this item or items?\n",
            "        8 | ident       | what kind of essential oil is this?\n",
            "        9 | explication | what about now, please?\n",
            "        7 | yes_no      | does this headset look like it is charging?\n",
            "        0 | color       | what color are these shorts please?\n",
            "        3 | explication | what is the make of my refrigerator?\n",
            "        5 | choice      | is this windows installing or is it waiting for me to select something or answer a question?\n",
            "       14 | rel_ident   | what is in this hand?\n"
          ]
        }
      ]
    },
    {
      "cell_type": "markdown",
      "metadata": {
        "id": "7K2Wtt7vGItW"
      },
      "source": [
        "###### Random samples by category name"
      ]
    },
    {
      "cell_type": "code",
      "metadata": {
        "colab": {
          "base_uri": "https://localhost:8080/"
        },
        "id": "HoFp-ovpGItY",
        "outputId": "7f7543a3-5886-4387-a87a-3216ba21fbba"
      },
      "source": [
        "for name in predict.category.unique():\n",
        "    printDf(predictClustersCategories(model, clusters, n_samples=20, category=name))\n",
        "    print(\"\")"
      ],
      "execution_count": null,
      "outputs": [
        {
          "output_type": "stream",
          "name": "stdout",
          "text": [
            "   labels | category   | question\n",
            "----------+------------+------------------------------------------------------------------------\n",
            "        4 | ocr        | can you please tell me what the label says is in this tub.\n",
            "       15 | ocr        | please tell me the name of this book?\n",
            "       11 | ocr        | can you tell me what the thermostat temperature is set on, please?\n",
            "        2 | ocr        | what is this product and how do you use it?\n",
            "        7 | ocr        | what milligrams is this?\n",
            "        3 | ocr        | what is the name or the title of this book?\n",
            "        3 | ocr        | what is the name on this stocking?\n",
            "        4 | ocr        | how many calories are in this bottle?\n",
            "       16 | ocr        | what is the expiration date on this box?\n",
            "        3 | ocr        | what are the directions for this meal?\n",
            "        9 | ocr        | read the name of soup.\n",
            "        9 | ocr        | how do you prepare this cake?\n",
            "       10 | ocr        | who is this cd by?\n",
            "        3 | ocr        | what is the temperature of the thermostat\n",
            "        3 | ocr        | what is the voltage of this adapter?\n",
            "        9 | ocr        | how many cups of milk and water will i need to make this mix?\n",
            "        9 | ocr        | where can i get a tv set like this?\n",
            "        7 | ocr        | please tell me the model number and make of this oven from this label.\n",
            "       10 | ocr        | how should i cook this pasta dish?\n",
            "        7 | ocr        | what size is my brass?\n",
            "\n",
            "   labels | category   | question\n",
            "----------+------------+---------------------------------------------------------------\n",
            "       11 | rel_ident  | please tell me what this is.\n",
            "       11 | rel_ident  | can you tell me what this is?\n",
            "       14 | rel_ident  | please tell me what is in this box?\n",
            "        7 | rel_ident  | can you tell me what is in this k cup?\n",
            "        7 | rel_ident  | could you tell what this item is please?\n",
            "       14 | rel_ident  | what is on the screen, please?\n",
            "       11 | rel_ident  | could you please tell me what these are?\n",
            "       11 | rel_ident  | can you please tell me what this is.\n",
            "       14 | rel_ident  | can you tell what is on this box?\n",
            "        7 | rel_ident  | what is written on the packet?\n",
            "       14 | rel_ident  | what is in this package\n",
            "        2 | rel_ident  | what is this on the paper?\n",
            "        2 | rel_ident  | what is this and can i type a question in noisy environments?\n",
            "       16 | rel_ident  | what is in that jar?\n",
            "       16 | rel_ident  | what is in the drawer and please describe.\n",
            "       14 | rel_ident  | what is in this jar?\n",
            "       14 | rel_ident  | what are these bottles for?\n",
            "        2 | rel_ident  | what is this, what is this paper?\n",
            "       16 | rel_ident  | what is in this ketchup?\n",
            "       15 | rel_ident  | what the heck is growing on the side of my house?\n",
            "\n",
            "   labels | category    | question\n",
            "----------+-------------+-----------------------------------------------------------------------------\n",
            "        4 | observation | we need to know what is on the screen and which item is for driver signing.\n",
            "        1 | observation | what does the text say?\n",
            "       12 | observation | can you see what the saying is?\n",
            "        1 | observation | what does the the captcha say?\n",
            "       11 | observation | what all do you see?\n",
            "        1 | observation | what does it say on the screen?\n",
            "        1 | observation | what does this cup say?\n",
            "        2 | observation | what is this picture on my shirt?\n",
            "        1 | observation | what does this say on the back?\n",
            "       13 | observation | does it say anything?\n",
            "       14 | observation | what is written in here?\n",
            "        3 | observation | what is the text on the pack?\n",
            "       15 | observation | can you tell what it says on the screen?\n",
            "        1 | observation | what does my display say?\n",
            "       10 | observation | describe what you see in this photo.\n",
            "        1 | observation | what does my hat say?\n",
            "        1 | observation | what does this photo say?\n",
            "        1 | observation | what does this capture say?\n",
            "        1 | observation | what does this dog look like?\n",
            "        1 | observation | what does that option say?\n",
            "\n",
            "   labels | category   | question\n",
            "----------+------------+--------------------------------------------------------\n",
            "        8 | ident      | what kind of cake mix is this?\n",
            "        2 | ident      | what is this captcha?\n",
            "        8 | ident      | what kind of yogurt is this\n",
            "        8 | ident      | can you tell me what kind of cereal this is please?\n",
            "       15 | ident      | please tell me the flavor of this soup.\n",
            "        8 | ident      | what kind of milk is this?\n",
            "        4 | ident      | i want to know what brand of cologne this is.\n",
            "        2 | ident      | what is this and does it have a flavor or description?\n",
            "        6 | ident      | what type of apple is this?\n",
            "        2 | ident      | what is this food?\n",
            "        6 | ident      | what type of insect is this?\n",
            "       11 | ident      | can you please tell me what card this is?\n",
            "        3 | ident      | what is the card that i have in my hand?\n",
            "        6 | ident      | what type of juice is this?\n",
            "        6 | ident      | what cd is this?\n",
            "        6 | ident      | what popsicle is this?\n",
            "       11 | ident      | need to know what steamer bag this is.\n",
            "       11 | ident      | what brand are these shoes?\n",
            "        8 | ident      | what kind of can food is this?\n",
            "       16 | ident      | what is the sum of this money?\n",
            "\n",
            "   labels | category    | question\n",
            "----------+-------------+-----------------------------------------------------------------------------------------------------------------------------------------------------\n",
            "        6 | explication | what part of a body is this?\n",
            "        3 | explication | what is the code in the picture.\n",
            "        4 | explication | which blackberry phone is this?\n",
            "       16 | explication | what is the percentage of this downward?\n",
            "       10 | explication | whoops, title.\n",
            "        4 | explication | where is the barcode on this tin of tomatoes?\n",
            "       10 | explication | read label please\n",
            "        3 | explication | what is the make of this phone, and the model please?\n",
            "        9 | explication | how many visas?\n",
            "        6 | explication | what nascar driver is this?\n",
            "        7 | explication | what model of stereo is this?\n",
            "        9 | explication | which ocean has the most hurricanes in the world?\n",
            "       10 | explication | in this picture.\n",
            "       10 | explication | please tell me as much as you can about these jeans.\n",
            "        3 | explication | what is the five digit number displayed?\n",
            "        3 | explication | what is the capture image?\n",
            "       13 | explication | can you please tell me the expiration date on this carton of milk, if you can see it?\n",
            "       11 | explication | what name is on this card?\n",
            "       15 | explication | if you are saying to me that i have to improve the image because i am blind, how the heck am i to do that because, you know, i cannot see the image\n",
            "       13 | explication | are you able to see what this card is for, please?\n",
            "\n",
            "   labels | category   | question\n",
            "----------+------------+-------------------------------------------------------------\n",
            "        0 | color      | what color is this t-shirt?\n",
            "        3 | color      | what are the colors and designs of this skirt?\n",
            "        0 | color      | what color is the shirt that i am holding up?\n",
            "        0 | color      | what color, what color are these shoes?\n",
            "        0 | color      | what color is this shirt?\n",
            "        0 | color      | what color is this top ?\n",
            "        0 | color      | what colors are in this purse?\n",
            "        0 | color      | what color is the water bottle?\n",
            "        0 | color      | what color is the embroidery in these jeans?\n",
            "        0 | color      | what color is it please?\n",
            "        0 | color      | what color shirt am i wearing?\n",
            "        0 | color      | what color are these three ties?\n",
            "        0 | color      | what colors are on this hat, and is there writing?\n",
            "        0 | color      | what color was that?\n",
            "        0 | color      | what color is this shirt, and what is the logo shown on it?\n",
            "        0 | color      | what color is the blouse?\n",
            "        0 | color      | what color are my curtains?\n",
            "        0 | color      | what color is my wall?\n",
            "        4 | color      | what shirt is this and what color is it?\n",
            "        0 | color      | what color is this band?\n",
            "\n",
            "   labels | category   | question\n",
            "----------+------------+-------------------------------------------------------------------------------------------------\n",
            "       12 | yes_no     | is my - is my light on?\n",
            "       12 | yes_no     | is it light outside and is the blinds closed?\n",
            "       12 | yes_no     | is there any cars in that garden?\n",
            "        7 | yes_no     | please read cooking instructions.\n",
            "        9 | yes_no     | could you please read the bill?\n",
            "       12 | yes_no     | can you see the steak on this menu?\n",
            "       13 | yes_no     | do you know this logo?\n",
            "       13 | yes_no     | are my clothes dirty?\n",
            "        9 | yes_no     | the chair looked like\n",
            "       11 | yes_no     | are you able to see what flavor this is and the scent?\n",
            "        9 | yes_no     | tell me your favorite quote.\n",
            "       13 | yes_no     | this is a picture of a home i am planning to buy, does it look like its in a safe neighborhood?\n",
            "        4 | yes_no     | is this das boot?\n",
            "        4 | yes_no     | this is a test.\n",
            "       13 | yes_no     | i changed the lighting is there a visible model number anywhere on the face of this device?\n",
            "       12 | yes_no     | is there a picture forming on this map?\n",
            "       10 | yes_no     | in this picture?\n",
            "       13 | yes_no     | is my screen on?\n",
            "       12 | yes_no     | is this right side up?\n",
            "        5 | yes_no     | is this generic zoloft?\n",
            "\n",
            "   labels | category   | question\n",
            "----------+------------+---------------------------------------------------------------------------------\n",
            "        8 | choice     | could you tell me which kind of chips they are, or what kind of chips they are?\n",
            "        7 | choice     | i am in vienna austria and what to know is this normal soy milk or soy cocoa?\n",
            "        7 | choice     | what mode is this washing machine set to?\n",
            "        4 | choice     | could you please tell me if this is regular coffee or decaffeinated?\n",
            "       10 | choice     | is that a beer or a coke?\n",
            "        8 | choice     | what kind of fruit?\n",
            "        5 | choice     | is this batch a or b?\n",
            "        4 | choice     | hello can you please tell me what a can of beans is thank you\n",
            "        7 | choice     | i have got two kinds of cheese, american and cheddar, which one is this?\n",
            "       15 | choice     | are these the apple cinnamon or strawberry cereal bars?\n",
            "        6 | choice     | coffee is this.\n",
            "       10 | choice     | heads or tails?\n",
            "        3 | choice     | what is the amount on this check?\n",
            "        5 | choice     | is this some kind of logo or a picture of a bus or what?\n",
            "       16 | choice     | what is good?\n",
            "       16 | choice     | what are the chemical elements that form most of living biological matter?\n",
            "        4 | choice     | is this decaf or regular coffee please?\n",
            "       11 | choice     | can you tell what type of cheese is in this package?\n",
            "        5 | choice     | is this brown rice or white rice?\n",
            "       15 | choice     | here is napkin one to the price mat. are these stripes vertical or horizontal?\n",
            "\n"
          ]
        }
      ]
    },
    {
      "cell_type": "markdown",
      "metadata": {
        "id": "D8TJ3adiC6Wm"
      },
      "source": [
        "### M4: SVC + embedding from all-MiniLM-L6-v2 model"
      ]
    },
    {
      "cell_type": "markdown",
      "metadata": {
        "id": "rkwRK0nRC6Wr"
      },
      "source": [
        "#### Train"
      ]
    },
    {
      "cell_type": "code",
      "metadata": {
        "colab": {
          "base_uri": "https://localhost:8080/",
          "height": 544
        },
        "id": "yjLLEkbtC6Ww",
        "outputId": "31751a4b-b8b9-47eb-e1c2-a040e57d6348"
      },
      "source": [
        "# Asign categories to salient clusters\n",
        "clusters = pd.read_pickle(CLUSTERING_DFS_FOLDER+\"opc2:lemas:17:1_10grama:all-MiniLM-L6-v2_embeddings.pkl\")\n",
        "\n",
        "# Get the top question of each salient cluster, and assign the according categories\n",
        "data = assignCategories(clusters, take_top_qs=90)\n",
        "\n",
        "# Train\n",
        "model = trainSvcModel(data, save=True)\n",
        "\n",
        "# Save model\n",
        "save_model = False\n",
        "if save_model:\n",
        "    saveClassifierModel(classifier_model=model, \n",
        "                        embedding_model=SentenceTransformer('all-MiniLM-L6-v2'), \n",
        "                        filename=\"classifier_model:Svm:all-MiniLM-L6-v2:v2\")"
      ],
      "execution_count": null,
      "outputs": [
        {
          "name": "stdout",
          "output_type": "stream",
          "text": [
            "Train samples: 574, Test samples: 144\n",
            "Train Accuracy: 0.973868\n",
            "Test Accuracy: 0.923611\n",
            "Input_name: 2\n"
          ]
        },
        {
          "output_type": "display_data",
          "data": {
            "image/png": "[encoded data removed]",
            "text/plain": [
              "<Figure size 576x576 with 2 Axes>"
            ]
          },
          "metadata": {
            "needs_background": "light"
          }
        }
      ]
    },
    {
      "cell_type": "markdown",
      "metadata": {
        "id": "7rZzv7A_C6W3"
      },
      "source": [
        "#### Test Results"
      ]
    },
    {
      "cell_type": "code",
      "metadata": {
        "colab": {
          "base_uri": "https://localhost:8080/",
          "height": 341
        },
        "id": "agbKxRLQC6W6",
        "outputId": "510c0f0d-1c55-44f5-f87a-7ab4ce013ec6"
      },
      "source": [
        "# Predict all questions categories from cluster dataframe\n",
        "predict = predictClustersCategories(model, clusters, n_samples=None)\n",
        "plotCategoriesDist(predict)"
      ],
      "execution_count": null,
      "outputs": [
        {
          "output_type": "display_data",
          "data": {
            "image/png": "[encoded data removed]",
            "text/plain": [
              "<Figure size 432x288 with 1 Axes>"
            ]
          },
          "metadata": {
            "needs_background": "light"
          }
        }
      ]
    },
    {
      "cell_type": "markdown",
      "metadata": {
        "id": "TflFCg3UC6W-"
      },
      "source": [
        "###### Random samples"
      ]
    },
    {
      "cell_type": "code",
      "metadata": {
        "colab": {
          "base_uri": "https://localhost:8080/"
        },
        "id": "wd8AYWH8C6XA",
        "outputId": "9258f9c7-5368-4ee2-8ef5-e7ae117f5074"
      },
      "source": [
        "printDf(predictClustersCategories(model, clusters, n_samples=30))"
      ],
      "execution_count": null,
      "outputs": [
        {
          "output_type": "stream",
          "name": "stdout",
          "text": [
            "   labels | category    | question\n",
            "----------+-------------+------------------------------------------------------------------------------------------------------------\n",
            "       14 | rel_ident   | what is on television?\n",
            "        7 | ocr         | can you tell me what this frozen dinner is and the conventional oven temperature and for how many minutes?\n",
            "        1 | observation | what does this coupon say on it?\n",
            "       11 | explication | can tell me what city and year this is?\n",
            "        5 | choice      | is this yarn blue or purple?\n",
            "        3 | color       | what is the color of the cap of this bottle?\n",
            "        2 | rel_ident   | what is this showing?\n",
            "        3 | ocr         | what are the cooking instructions on this package?\n",
            "        2 | ident       | what is this photo?\n",
            "        9 | explication | hi, can you tell me if this looks better?\n",
            "        2 | explication | what is this computer model?\n",
            "        0 | color       | what color laptop is that?\n",
            "        5 | choice      | is this catalina regular or catalina free?\n",
            "       16 | rel_ident   | what is on this piece of paper?\n",
            "        3 | ident       | what is the flavor of this chobani greek yogurt?\n",
            "       12 | yes_no      | do the clouds look like they are storm clouds?\n",
            "        0 | color       | what color is that switch plate on the wall with the picture i just took?\n",
            "       15 | explication | what letters do i enter in to win the prize?\n",
            "       11 | explication | what time is on my phone?\n",
            "       10 | ident       | can you tell me which medicine this is please?\n"
          ]
        }
      ]
    },
    {
      "cell_type": "markdown",
      "metadata": {
        "id": "XLvodV8WC6XC"
      },
      "source": [
        "###### Random samples by category name"
      ]
    },
    {
      "cell_type": "code",
      "metadata": {
        "colab": {
          "base_uri": "https://localhost:8080/"
        },
        "id": "qMs28J5dC6XD",
        "outputId": "99de0d33-ffcc-4adb-9709-0d6392662b89"
      },
      "source": [
        "for name in predict.category.unique():\n",
        "    printDf(predictClustersCategories(model, clusters, n_samples=20, category=name))\n",
        "    print(\"\")"
      ],
      "execution_count": null,
      "outputs": [
        {
          "output_type": "stream",
          "name": "stdout",
          "text": [
            "   labels | category   | question\n",
            "----------+------------+-------------------------------------------------------------------------------------------------------------\n",
            "        3 | ocr        | what is the name of this can please?\n",
            "        9 | ocr        | can you tell me the sodium content of this can of food?\n",
            "        8 | ocr        | what kind of chex mix are those?\n",
            "        7 | ocr        | can you tell me what this is and what the conventional number of degrees of the oven and number of minutes.\n",
            "        3 | ocr        | is this beter what is the name of the cd?\n",
            "       11 | ocr        | what brand of omelettes are these?\n",
            "        9 | ocr        | what its name?\n",
            "        2 | ocr        | what is this called?\n",
            "       10 | ocr        | name this perfume.\n",
            "        3 | ocr        | what is the name of this?\n",
            "       16 | ocr        | what is the temperature setting on this thermostat?\n",
            "        7 | ocr        | i am trying to find out the number of milligrams for this product.\n",
            "       15 | ocr        | i would like to know the name of the spice in this bottle.\n",
            "        9 | ocr        | how much sodium or salt is in each serving of these beans?\n",
            "        4 | ocr        | just wondering what the milligram dosage is on this benadryl?\n",
            "        4 | ocr        | what brand of baby wipes are these specifically?\n",
            "       16 | ocr        | what is the oven temperature please?\n",
            "        3 | ocr        | what is the name of this game?\n",
            "        3 | ocr        | what is the name of this food?\n",
            "       16 | ocr        | what is the expiration date on this item?\n",
            "\n",
            "   labels | category   | question\n",
            "----------+------------+------------------------------------------------------------------\n",
            "       14 | rel_ident  | what is inside of this can?\n",
            "        7 | rel_ident  | what is in this can.\n",
            "        7 | rel_ident  | please describe what this is or state any writing that is on it.\n",
            "        6 | rel_ident  | what kind is seizing is this?\n",
            "       16 | rel_ident  | what is on the shirt?\n",
            "       14 | rel_ident  | what is that product?\n",
            "        2 | rel_ident  | what is this that i am trying to scan?\n",
            "        2 | rel_ident  | what is this, please?\n",
            "        7 | rel_ident  | what is on this can?\n",
            "       14 | rel_ident  | hi there i was wondering what was in this can, thank you?\n",
            "       14 | rel_ident  | what is currently displayed on the screen?\n",
            "       11 | rel_ident  | hi, can you tell me what this?\n",
            "       14 | rel_ident  | what is it in the picture?\n",
            "        3 | rel_ident  | what is the computer screen reading?\n",
            "        7 | rel_ident  | what is in this jar please?\n",
            "        2 | rel_ident  | what is this in the screen?\n",
            "        7 | rel_ident  | what text is on my computer screen please?\n",
            "        7 | rel_ident  | what is in the jar and would you have a suggested recipe?\n",
            "        7 | rel_ident  | please let me know what is on my screen right now.\n",
            "       14 | rel_ident  | what is on this pillow?\n",
            "\n",
            "   labels | category    | question\n",
            "----------+-------------+---------------------------------------------\n",
            "        1 | observation | what does this say please?\n",
            "        1 | observation | what does this box have on it?\n",
            "        2 | observation | what is this guy look like in this picture?\n",
            "       16 | observation | what are the warnings on this bottle?\n",
            "        1 | observation | what does this sign say?\n",
            "       15 | observation | can you tell what it says on the screen?\n",
            "        1 | observation | what does it say on that bag?\n",
            "       15 | observation | hi, what do you see in the screen?\n",
            "       16 | observation | what is my computer screen showing?\n",
            "       11 | observation | what menu is being displayed on the screen?\n",
            "        7 | observation | what  can you see on this screen?\n",
            "        9 | observation | this piece of paper say?\n",
            "        6 | observation | what rumanian car logo is this?\n",
            "        9 | observation | mean or maple leaf?\n",
            "        1 | observation | what does this mug say?\n",
            "        1 | observation | what do you see in the picture?\n",
            "       12 | observation | can you see what the saying is?\n",
            "       11 | observation | tell me what this dog looks like\n",
            "        1 | observation | what does the screen say on the computer?\n",
            "        1 | observation | what does this picture look like?\n",
            "\n",
            "   labels | category   | question\n",
            "----------+------------+----------------------------------------------------------------------------\n",
            "       11 | ident      | what flavor these are?\n",
            "        7 | ident      | hi, can you tell me what type of chicken this is?\n",
            "        6 | ident      | what beer is this?\n",
            "       10 | ident      | could you tell me what kind of meat this is, please?\n",
            "        4 | ident      | what prices are on this sign?\n",
            "        8 | ident      | what kind of soup is this?\n",
            "        6 | ident      | what meat is this?\n",
            "        2 | ident      | what is this metal square on the coffee table?\n",
            "        8 | ident      | what kind of gun is that?\n",
            "        8 | ident      | what kind of pie is this?\n",
            "        8 | ident      | what kind of printer is this?\n",
            "        2 | ident      | what is, what is this plant?\n",
            "        4 | ident      | i just wanted to know what this is and the cooking instructions if posible\n",
            "        3 | ident      | what is the temperature?\n",
            "        6 | ident      | what moat is this?\n",
            "        7 | ident      | what brand and item is this?\n",
            "        2 | ident      | what is this, thank you.\n",
            "        7 | ident      | can you tell me what this is-this item, please?\n",
            "       11 | ident      | what flavor is this ricearoni?\n",
            "       11 | ident      | what meat is in this box?\n",
            "\n",
            "   labels | category    | question\n",
            "----------+-------------+------------------------------------------------------------------------\n",
            "        9 | explication | please keep reading.\n",
            "        9 | explication | sweet jesus.\n",
            "       15 | explication | can you please tell me the 1-800 number on this card?\n",
            "       10 | explication | read me this captcha please.\n",
            "       10 | explication | has this candle been burnt or is it new\n",
            "        6 | explication | can you tell me what screen is this?\n",
            "        2 | explication | what is this picture of? in detail.\n",
            "        9 | explication | can you identify this jar please?\n",
            "        2 | explication | what is this plate question?\n",
            "       16 | explication | what is the manufacturer?\n",
            "        4 | explication | what time, what time is it in eastern daylight time?\n",
            "       15 | explication | can you describe the photo which is outside the text?\n",
            "       15 | explication | which one is the bolognese sauce?\n",
            "        4 | explication | can you please tell me what this city is called?\n",
            "       11 | explication | what brand and model is this phone?\n",
            "       11 | explication | can you tell what i am playing?\n",
            "       15 | explication | describe the garment and the color.\n",
            "       15 | explication | can you see the model number of the bluetooth keyboard in the picture?\n",
            "        2 | explication | what is this sea creature that walked up on the beach?\n",
            "        4 | explication | who is this though?\n",
            "\n",
            "   labels | category   | question\n",
            "----------+------------+---------------------------------------------------\n",
            "        0 | color      | what color is this mouse?\n",
            "        0 | color      | what color are these cabinets?\n",
            "        0 | color      | what color is this robe?\n",
            "        0 | color      | what color is this stapler?\n",
            "       11 | color      | what color do you see on this sneaker?\n",
            "        0 | color      | what color is the water bottle?\n",
            "        0 | color      | what color are these ties?\n",
            "        0 | color      | what color is the bottle?\n",
            "       15 | color      | can you tell me the color of the kitty cat's fur?\n",
            "       15 | color      | which color does the folder have?\n",
            "        0 | color      | what color is this shirt, thank you?\n",
            "        0 | color      | what color is this shoe?\n",
            "        0 | color      | what color trousers are these?\n",
            "        3 | color      | what is the black thing?\n",
            "        0 | color      | what color is the telephone on my lap?\n",
            "        3 | color      | what is the color of the pillow?\n",
            "        0 | color      | record what color is this yarn please\n",
            "        0 | color      | what color is this ...?\n",
            "        0 | color      | what color is this onesie?\n",
            "        0 | color      | what color of wall would match?\n",
            "\n",
            "   labels | category   | question\n",
            "----------+------------+--------------------------------------------------------------------------\n",
            "       15 | yes_no     | yes i need to know what the captcha image is in this picture, thank you.\n",
            "       13 | yes_no     | is it the books?\n",
            "       13 | yes_no     | did you see a picture of a black dog lying on a bed?\n",
            "       12 | yes_no     | is there any red packet on the table?\n",
            "       13 | yes_no     | is there any writing on this sheet of paper, and what color is it?\n",
            "       12 | yes_no     | is there a tv on top of this dresser?\n",
            "        5 | yes_no     | is this egg rotten or yucky in some way ?\n",
            "       12 | yes_no     | is this chili?\n",
            "       12 | yes_no     | can you see if there are roots growing?\n",
            "       13 | yes_no     | do you see an error on this mac login screen?\n",
            "        5 | yes_no     | is this a mobile?\n",
            "       10 | yes_no     | is there shower gel or shampoo in this bottle please?\n",
            "        9 | yes_no     | is there any msg in that?\n",
            "       13 | yes_no     | can you see what shin this is?\n",
            "        7 | yes_no     | does this headset look like it is charging?\n",
            "        9 | yes_no     | read me the paper.\n",
            "       12 | yes_no     | does this shirt and pants go together?\n",
            "       12 | yes_no     | do you see any writin' on this tag?\n",
            "        9 | yes_no     | can you read me the instructions for this medicine bottle?\n",
            "        7 | yes_no     | are there any lights on on my router?\n",
            "\n",
            "   labels | category   | question\n",
            "----------+------------+-----------------------------------------------------------------------\n",
            "       10 | choice     | are these my blue or orange tennis shoes?\n",
            "        4 | choice     | is this decaf or regular coffee please?\n",
            "       15 | choice     | is the air conditioner set to air, fan, or dehumidifier?\n",
            "       15 | choice     | is the olive oil right or left?\n",
            "        9 | choice     | what sort of question should i ask?\n",
            "       11 | choice     | can you tell me what this meat is, if it is ground beef or something?\n",
            "        9 | choice     | which eye drops are these?\n",
            "        5 | choice     | is this my windows or a mac laptop?\n",
            "        4 | choice     | good morning, which version of tide is this?\n",
            "        9 | choice     | is the air conditioner on dehumidifier or air?\n",
            "        5 | choice     | is this air conditioner on air, fan, or dehumidifier?\n",
            "        8 | choice     | what kind of exercise machine is this?\n",
            "        4 | choice     | is this on air, fan or dehumidifier?\n",
            "        4 | choice     | is this any better?\n",
            "       10 | choice     | is that soap or lotion?\n",
            "       16 | choice     | what are the two buttons?\n",
            "        9 | choice     | ok.   and then.\n",
            "       10 | choice     | are these plain or chili cheese fritos?\n",
            "        5 | choice     | is this stewed tomatoes or whole peeled tomatoes?\n",
            "        5 | choice     | is this shampoo or hand lotion?\n",
            "\n"
          ]
        }
      ]
    }
  ]
}