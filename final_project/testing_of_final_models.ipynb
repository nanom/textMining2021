{
  "nbformat": 4,
  "nbformat_minor": 0,
  "metadata": {
    "accelerator": "GPU",
    "colab": {
      "name": "testing_of_final_models.ipynb",
      "private_outputs": true,
      "provenance": [],
      "collapsed_sections": [
        "OpV-WNw2KXip",
        "NrLXah_V1XVD"
      ],
      "include_colab_link": true
    },
    "kernelspec": {
      "display_name": "Python 3",
      "name": "python3"
    },
    "language_info": {
      "name": "python"
    }
  },
  "cells": [
    {
      "cell_type": "markdown",
      "metadata": {
        "id": "view-in-github",
        "colab_type": "text"
      },
      "source": [
        "<a href=\"https://colab.research.google.com/github/nanom/textMining2021/blob/main/final_project/testing_of_final_models.ipynb\" target=\"_parent\"><img src=\"https://colab.research.google.com/assets/colab-badge.svg\" alt=\"Open In Colab\"/></a>"
      ]
    },
    {
      "cell_type": "markdown",
      "metadata": {
        "id": "OpV-WNw2KXip"
      },
      "source": [
        "## Initializations"
      ]
    },
    {
      "cell_type": "markdown",
      "metadata": {
        "id": "NrLXah_V1XVD"
      },
      "source": [
        "##### Setup"
      ]
    },
    {
      "cell_type": "code",
      "metadata": {
        "id": "aS_3Og16Ivbb"
      },
      "source": [
        "# --- Install libs ---\n",
        "!pip install -U sentence-transformers --quiet\n",
        "\n",
        "# --- Import libs ---\n",
        "import pandas as pd\n",
        "import numpy as np\n",
        "from tabulate import tabulate\n",
        "from tqdm.notebook import tqdm\n",
        "from collections import Counter\n",
        "import sys\n",
        "\n",
        "import pickle\n",
        "import torch\n",
        "from google_drive_downloader import GoogleDriveDownloader as gdd\n",
        "from sentence_transformers import SentenceTransformer\n",
        "\n",
        "import seaborn as snb\n",
        "import matplotlib.pyplot as plt\n",
        "\n",
        "# --- Config ---\n",
        "tqdm.pandas()"
      ],
      "execution_count": null,
      "outputs": []
    },
    {
      "cell_type": "markdown",
      "metadata": {
        "id": "BHsfWmTc1TcB"
      },
      "source": [
        "##### Functions"
      ]
    },
    {
      "cell_type": "code",
      "metadata": {
        "id": "lVI-lhBfJ_zr"
      },
      "source": [
        "# --- Main Functions ----\n",
        "\n",
        "def predictBatchCategories(model, batch_questions):\n",
        "    ### Predict categories from the questions list\n",
        "\n",
        "    # Check GPU devices\n",
        "    device = 'cuda:0' if torch.cuda.is_available() else 'cpu'\n",
        "\n",
        "    # Get models\n",
        "    c_model, emb_model = model\n",
        "    # Get embedding og question\n",
        "    batch_emb = emb_model.encode(batch_questions, show_progress_bar=True, device=device)\n",
        "    \n",
        "    return c_model.predict(batch_emb)\n",
        "\n",
        "def predictQsCategory(model, question, rank=False):\n",
        "    ### Predict question category\n",
        "\n",
        "    # Get models\n",
        "    c_model, emb_model = model\n",
        "    # Encodeing question (embedding)\n",
        "    qs_emb = emb_model.encode(question)\n",
        "\n",
        "    if rank:\n",
        "        probs = c_model.predict_proba(qs_emb.reshape(1,-1))[0]\n",
        "        probs = [(c,round(p,3)) for c,p in zip(c_model.classes_, probs)]\n",
        "        probs = sorted(probs, key=lambda x: x[1], reverse=True)\n",
        "        for i,(cat,p) in enumerate(probs[:3]):\n",
        "            print(\"\\t{}] '{}' ({:.1f}%)\".format(i+1,cat,p*100))\n",
        "    \n",
        "    else:\n",
        "        return c_model.predict(qs_emb.reshape(1,-1))[0]\n",
        "\n",
        "\n",
        "# --- Load model y samples test ---\n",
        "\n",
        "def loadClassifierModel(model_name):\n",
        "    ### Download and return classifier model\n",
        "\n",
        "    if model_name == \"m1_v1\":\n",
        "        url = \"https://drive.google.com/file/d/1--ntaHzKjmbaWDYqt_jPtZdz48moaw-T/view?usp=sharing\" \n",
        "    elif model_name == \"m1_v2\":\n",
        "        url = \"https://drive.google.com/file/d/1i7nI1arUOKTar3FrzK_LViLXx1yiMtCA/view?usp=sharing\"\n",
        "\n",
        "    elif model_name == \"m2_v1\":\n",
        "        url = \"https://drive.google.com/file/d/1-5_OM8AEkf6g1AI6CWstdXovB7tI2esX/view?usp=sharing\"\n",
        "    elif model_name == \"m2_v2\":\n",
        "        url = \"https://drive.google.com/file/d/1-2_ucfCIUm1xVC2wiMSVfMooj6b_2she/view?usp=sharing\"\n",
        "\n",
        "    elif model_name == \"m3_v1\":\n",
        "        url = \"https://drive.google.com/file/d/1-1-qmavRtB2gyTKS6Jbaf7q9b9_-TvI1/view?usp=sharing\"\n",
        "    elif model_name == \"m3_v2\":\n",
        "        url = \"https://drive.google.com/file/d/1-41pkyXCFcJo43J-BQhIHoqjDzy_wrGz/view?usp=sharing\"\n",
        "\n",
        "    elif model_name == \"m4_v1\":\n",
        "        url = \"https://drive.google.com/file/d/1-96FltzeyW__f55L4o1CxLmlL2Dch5Zl/view?usp=sharing\"\n",
        "    elif model_name == \"m4_v2\":\n",
        "        url = \"https://drive.google.com/file/d/1-BJJGKA1VTa2LQ43X4lbPysdSEWwPOq8/view?usp=sharing\"\n",
        "    else:\n",
        "        sys.exit(\"Error!. The model '{}' no exists.\".format(model_name))\n",
        "\n",
        "\n",
        "    # Check GPU devices availables\n",
        "    device = 'cuda:0' if torch.cuda.is_available() else 'cpu'\n",
        "\n",
        "    # Download model\n",
        "    dest_path = \"./data/classifier_model.pkl\"\n",
        "    url_id = (url.split(\"https://drive.google.com/file/d/\")[1]).split(\"/\")[0]\n",
        "    gdd.download_file_from_google_drive(file_id=url_id, dest_path=dest_path, overwrite=True)\n",
        "    \n",
        "    # Load model\n",
        "    with open(dest_path, 'rb') as file:\n",
        "        classifier_model, embedding_model = pickle.load(file)\n",
        "\n",
        "    print(\"- The model has been loaded successfully...\")\n",
        "    print(\"- Predicted categories: \", *classifier_model.classes_, sep=\", \")\n",
        "    \n",
        "    if device == 'cpu':\n",
        "        print(\"- Note: GPU not available. The predictions process could be very slow!\")\n",
        "    else:\n",
        "        print(\"- Note: All predictions will be made using GPU!\")\n",
        "        \n",
        "    return classifier_model, embedding_model\n",
        "\n",
        "def loadVizWizSamples():\n",
        "    ### Download and retrieve data from 500 samples from the VizWiz validation subset\n",
        "\n",
        "    dest_path = \"./data/vizwiz_500_subsamples_val.pkl\"\n",
        "    drive_id = \"1X7bRCRrrLCaUErz5AmU_sLQJcGN7p-I1\"\n",
        "\n",
        "    # Download model\n",
        "    gdd.download_file_from_google_drive(file_id=drive_id, dest_path=dest_path, overwrite=True)\n",
        "\n",
        "    # Load model\n",
        "    with open(dest_path, 'rb') as file:\n",
        "        df = pickle.load(file)\n",
        "\n",
        "    print(\"VizWiz validation subset has been loaded successfully ... \")\n",
        "    return df\n",
        "\n",
        "def loadVizWizFull():\n",
        "    ### Download and retrieve all VizWiz samples of train and validation sets\n",
        "\n",
        "    dest_path = \"./data/vizwiz_full.pkl\"\n",
        "    drive_id = \"1_pn9qP8k4ZgeM75PNyIUyPWT23zvALPK\"\n",
        "\n",
        "    # Download model\n",
        "    gdd.download_file_from_google_drive(file_id=drive_id, dest_path=dest_path, overwrite=True)\n",
        "\n",
        "    # Load model\n",
        "    with open(dest_path, 'rb') as file:\n",
        "        df = pickle.load(file)\n",
        "\n",
        "    print(\"VizWiz test and train samples has been loaded successfully ... \")\n",
        "    return df\n",
        "\n",
        "\n",
        "# --- Auxiliars ---\n",
        "\n",
        "def printDf(df, n_samples, category=None, answer_type=None):\n",
        "    ### Print dataframe in readable form\n",
        "    if category:\n",
        "        if category not in df.category.unique():\n",
        "            sys.exit(\"Error!. Select one of these 'categories': {}\".format(df.category.unique()))\n",
        "        df = df[df.category == category]\n",
        "\n",
        "    if answer_type:\n",
        "        if answer_type not in df.answer_type.unique():\n",
        "            sys.exit(\"Error!. Select one of these 'answer_type': {}\".format(df.answer_type.unique()))\n",
        "        df = df[df.answer_type == answer_type]\n",
        "    \n",
        "    df = df[['answer_type','category','question']]\n",
        "    n_samples = min(n_samples, len(df))\n",
        "    print(tabulate(df.sample(n_samples), headers='keys', tablefmt='presto', showindex='False'))\n",
        "\n",
        "def plotCategoryDist(prediction_df):\n",
        "    ### View categories distribution for each answer type\n",
        "    \n",
        "    df = prediction_df.groupby(['answer_type','category'])['question'].count().reset_index()\n",
        "    fig, ax = plt.subplots(figsize=(10,5))\n",
        "    g = snb.barplot(data=df, x='answer_type', y='question', hue='category', ax=ax)\n",
        "    g.set_xlabel(\"Answer type\")\n",
        "    g.set_ylabel(\"Freq\")\n",
        "    plt.xticks(rotation=60)\n",
        "    plt.title(\"Categories distribution (over 500 samples from the VizWiz val subset)\")\n",
        "    plt.legend(title='Category', bbox_to_anchor=(1.05, 1), loc='upper left', borderaxespad=0.)\n",
        "    plt.show()\n",
        "\n",
        "def plotAnswertypeDist(prediction_df):\n",
        "    ### View answer type distribution for each categories predicted\n",
        "\n",
        "    df = prediction_df.groupby(['answer_type','category'])['question'].count().reset_index()\n",
        "    fig, ax = plt.subplots(figsize=(10,5))\n",
        "    g = snb.barplot(data=df, x='category', y='question', hue='answer_type', ax=ax)\n",
        "    g.set_xlabel(\"Category\")\n",
        "    g.set_ylabel(\"Freq\")\n",
        "    plt.xticks(rotation=60)\n",
        "    plt.title(\"Answer type distribution (over 500 samples from the VizWiz val subset)\")\n",
        "    plt.legend(title='Answer type', bbox_to_anchor=(1.05, 1), loc='upper left', borderaxespad=0.)\n",
        "    plt.show()\n",
        "\n",
        "def plotAnswerableDist(prediction_df):\n",
        "    ### View answerable questions distribution for each categories predicted\n",
        "\n",
        "    df = prediction_df.groupby(['answerable','category'])['question'].count().reset_index()\n",
        "    df['answerable'] = df.answerable.progress_apply(lambda a: 'Yes' if a==1 else 'No')\n",
        "    fig, ax = plt.subplots(figsize=(10,5))\n",
        "    g = snb.barplot(data=df, x='answerable', y='question', hue='category', ax=ax)\n",
        "    g.set_xlabel(\"Answerable\")\n",
        "    g.set_ylabel(\"Freq\")\n",
        "    plt.xticks(rotation=60)\n",
        "    plt.title(\"Answerable questions distribution (over 500 samples from the VizWiz val subset)\")\n",
        "    plt.legend(title='Category', bbox_to_anchor=(1.05, 1), loc='upper left', borderaxespad=0.)\n",
        "    plt.show()\n",
        "\n",
        "def confusionMatrix(prediction_df, save=False):\n",
        "    dic = dict(Counter(zip(prediction_df.answer_type.values, prediction_df.category.values)))\n",
        "    ct = prediction_df.category.unique()\n",
        "    at = prediction_df.answer_type.unique()\n",
        "    ct.sort(); at.sort()\n",
        "    array = np.zeros((len(at),len(ct)))\n",
        "    for j in range(array.shape[0]):\n",
        "        for i in range(array.shape[1]):\n",
        "            array[j][i] = dic.get(tuple([at[j], ct[i]]), 0.0)\n",
        "    \n",
        "    df = pd.DataFrame(array, index=at, columns=ct)\n",
        "    df = df.div(df.sum(axis=1),axis=0) \n",
        "    fig, ax = plt.subplots(figsize=(15,5))\n",
        "    g = snb.heatmap(df, annot=True, cmap='Reds', fmt='.1%', ax=ax)\n",
        "    g.set_xlabel(\"Categories\",fontsize=20)\n",
        "    g.set_ylabel(\"Answer Type\",fontsize=20)\n",
        "    if save:\n",
        "        plt.savefig(input(\"Save image as: \")+\".pdf\", format='pdf', bbox_inches='tight')\n",
        "    plt.show()"
      ],
      "execution_count": null,
      "outputs": []
    },
    {
      "cell_type": "markdown",
      "metadata": {
        "id": "_TUSwXioh_e4"
      },
      "source": [
        "## Make predictions \n",
        "> #### List of trained models:\n",
        "\n",
        "* M1 = **Embedding:** [*bert_base_uncased*](https://huggingface.co/bert-base-uncased); **Classifier:** [*Logistic Regression*](https://scikit-learn.org/stable/modules/generated/sklearn.linear_model.LogisticRegression.html)  \n",
        "* M2 = **Embedding:** *bert_base_uncased*; **Classifier:** [*Linear SVC*](https://scikit-learn.org/stable/modules/generated/sklearn.svm.LinearSVC.html)\n",
        "* M3 = **Embedding:** [*all-MiniLM-L6-v2*](https://huggingface.co/sentence-transformers/all-MiniLM-L6-v2); **Classifier:** *Logistic Regression*\n",
        "* M4 = **Embedding:** *all-MiniLM-L6-v2*; **Classifier:** *Linear SVC*\n",
        "\n",
        "> #### Class versions:\n",
        "\n",
        "* v.1 (Initial) = **choice** -  **class** -  **color** -  **description** -  **explication** -  **main_obj** -  **ocr** -  **relative_obj** -  **yes_no**\n",
        "* v.2 (Used in report) = **choice** - **color** - **explication** - **ident** - **observation** - **ocr** - **rel_ident** - **yes_no**\n"
      ]
    },
    {
      "cell_type": "markdown",
      "metadata": {
        "id": "WyhEJLRO1uPT"
      },
      "source": [
        "##### Load models"
      ]
    },
    {
      "cell_type": "code",
      "metadata": {
        "id": "TmzBjb7Ns-_Y"
      },
      "source": [
        "# Models:\n",
        "#    'm1_v1' = Train Acc: 1.000000, Test Acc: 0.924912\n",
        "#    'm1_v2' = Train Acc: 1.000000, Test Acc: 0.951235\n",
        "\n",
        "#    'm2_v1' = Train Acc: 1.000000, Test Acc: 0.9240617\n",
        "#    'm2_v2' = Train Acc: 1.000000, Test Acc: 0.984278\n",
        "\n",
        "#    'm3_v1' = Train Acc: 0.915981, Test Acc: 0.86296\n",
        "#    'm3_v2' = Train Acc: 0.925781, Test Acc: 0.914062\n",
        "\n",
        "#    'm4_v1' = Train Acc: 0.957593, Test Acc: 0.857160\n",
        "#    'm4_v2' = Train Acc: 0.978750, Test Acc: 0.927500\n",
        "\n",
        "# --- Load model ---\n",
        "model_name = \"m2_v2\"\n",
        "classifier_model = loadClassifierModel(model_name)"
      ],
      "execution_count": null,
      "outputs": []
    },
    {
      "cell_type": "markdown",
      "metadata": {
        "id": "bV8TXwmNVch4"
      },
      "source": [
        "##### Test using a sigle question"
      ]
    },
    {
      "cell_type": "code",
      "metadata": {
        "id": "4W2oExFZtV82"
      },
      "source": [
        "# Test prediction\n",
        "# (Note: If rank parameter is True, return the three most probables categories, otherwise return the best)\n",
        "qs1 = \"What's the date of this paper?\"\n",
        "print(\"Qs:\",qs1)\n",
        "predictQsCategory(classifier_model, qs1, rank=True)"
      ],
      "execution_count": null,
      "outputs": []
    },
    {
      "cell_type": "markdown",
      "metadata": {
        "id": "z7JHvlygwKbN"
      },
      "source": [
        "##### Predict in (500 VizWiz validation subset samples)"
      ]
    },
    {
      "cell_type": "code",
      "metadata": {
        "id": "lIM1HzaVksgw"
      },
      "source": [
        "# Load dataset\n",
        "vizwiz = loadVizWizSamples()\n",
        "print(\"- '{}' samples loaded!\".format(len(vizwiz)))\n",
        "\n",
        "# Predict categories for each questions\n",
        "results = vizwiz.assign(category=predictBatchCategories(classifier_model, vizwiz.question.to_list()))"
      ],
      "execution_count": null,
      "outputs": []
    },
    {
      "cell_type": "code",
      "metadata": {
        "id": "VUniCZmAAmpB"
      },
      "source": [
        "# View random samples\n",
        "#   * n_samples: Number of samples to view  \n",
        "#   * category: Name of 'category', None to see all.\n",
        "#   * answer_type = Name of 'answer_type',  None to see all.\n",
        "\n",
        "printDf(results, n_samples=20, category=None, answer_type=None)"
      ],
      "execution_count": null,
      "outputs": []
    },
    {
      "cell_type": "code",
      "metadata": {
        "id": "bArNQFECHF11"
      },
      "source": [
        "# Confusion matrix 'Answer_type' vs 'Categories' \n",
        "confusionMatrix(results)"
      ],
      "execution_count": null,
      "outputs": []
    },
    {
      "cell_type": "code",
      "metadata": {
        "id": "fToWGM8TDE7g"
      },
      "source": [
        "# Plot categories distribution for each answer type\n",
        "plotCategoryDist(results)"
      ],
      "execution_count": null,
      "outputs": []
    },
    {
      "cell_type": "code",
      "metadata": {
        "id": "yGUsu8nmDHlt"
      },
      "source": [
        "# Plot answer type distribution for each categories predicted\n",
        "plotAnswertypeDist(results)"
      ],
      "execution_count": null,
      "outputs": []
    },
    {
      "cell_type": "code",
      "metadata": {
        "id": "8PT61h5_DLpK"
      },
      "source": [
        "# Plot answerable questions distribution for each categories predicted\n",
        "plotAnswerableDist(results)"
      ],
      "execution_count": null,
      "outputs": []
    },
    {
      "cell_type": "markdown",
      "metadata": {
        "id": "Kfk41AYWaA1r"
      },
      "source": [
        "##### Predict in  (Full VizWiz dataset)"
      ]
    },
    {
      "cell_type": "code",
      "metadata": {
        "id": "zwLBLwXLaF-2"
      },
      "source": [
        "# Load dataset\n",
        "vizwiz = loadVizWizFull()\n",
        "print(\"- '{}' samples loaded!\".format(len(vizwiz)))\n",
        "\n",
        "# Predict categories for each questions\n",
        "results = vizwiz.assign(category=predictBatchCategories(classifier_model, vizwiz.question.to_list()))"
      ],
      "execution_count": null,
      "outputs": []
    },
    {
      "cell_type": "code",
      "metadata": {
        "id": "b_PpRWAxtRdZ"
      },
      "source": [
        "# View random samples\n",
        "#   * n_samples: Number of samples to view  \n",
        "#   * category: Name of 'category', None to see all.\n",
        "#   * answer_type = Name of 'answer_type',  None to see all.\n",
        "\n",
        "printDf(results,n_samples=20, category=None, answer_type=None)"
      ],
      "execution_count": null,
      "outputs": []
    },
    {
      "cell_type": "code",
      "metadata": {
        "id": "9WBcN0yIiT98"
      },
      "source": [
        "# Confusion matrix 'Answer_type' vs 'Categories' \n",
        "confusionMatrix(results)"
      ],
      "execution_count": null,
      "outputs": []
    },
    {
      "cell_type": "code",
      "metadata": {
        "id": "hXIiGy2fDUdb"
      },
      "source": [
        "# Plot categories distribution for each answer type\n",
        "plotCategoryDist(results)"
      ],
      "execution_count": null,
      "outputs": []
    },
    {
      "cell_type": "code",
      "metadata": {
        "id": "WN7NxyhwDVBL"
      },
      "source": [
        "# Plot answer type distribution for each categories predicted\n",
        "plotAnswertypeDist(results)"
      ],
      "execution_count": null,
      "outputs": []
    },
    {
      "cell_type": "code",
      "metadata": {
        "id": "0nzj4gpXDVa2"
      },
      "source": [
        "# Plot answerable questions distribution for each categories predicted\n",
        "plotAnswerableDist(results)"
      ],
      "execution_count": null,
      "outputs": []
    }
  ]
}